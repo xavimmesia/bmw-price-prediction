{
 "cells": [
  {
   "cell_type": "markdown",
   "id": "e4c94c44",
   "metadata": {},
   "source": [
    "## Step 1: Install + Import Necessary Libraries"
   ]
  },
  {
   "cell_type": "code",
   "execution_count": 194,
   "id": "010e4894",
   "metadata": {},
   "outputs": [],
   "source": [
    "import pandas as pd\n",
    "import numpy as np\n",
    "from datetime import datetime\n",
    "import matplotlib.pyplot as plt\n",
    "import seaborn as sns\n",
    "\n",
    "from sklearn.preprocessing import LabelEncoder,MinMaxScaler\n",
    "from sklearn import model_selection \n",
    "from sklearn import metrics \n",
    "\n",
    "import folium\n",
    "import plotly.express as px"
   ]
  },
  {
   "cell_type": "markdown",
   "id": "112cae40",
   "metadata": {},
   "source": [
    "## Step 2: Reading + Exploring Data"
   ]
  },
  {
   "cell_type": "code",
   "execution_count": 195,
   "id": "0165fd36",
   "metadata": {},
   "outputs": [],
   "source": [
    "df_bmw=pd.read_csv(\"bmw_pricing_v2.csv\")"
   ]
  },
  {
   "cell_type": "code",
   "execution_count": 196,
   "id": "bde002ac",
   "metadata": {},
   "outputs": [
    {
     "data": {
      "text/html": [
       "<div>\n",
       "<style scoped>\n",
       "    .dataframe tbody tr th:only-of-type {\n",
       "        vertical-align: middle;\n",
       "    }\n",
       "\n",
       "    .dataframe tbody tr th {\n",
       "        vertical-align: top;\n",
       "    }\n",
       "\n",
       "    .dataframe thead th {\n",
       "        text-align: right;\n",
       "    }\n",
       "</style>\n",
       "<table border=\"1\" class=\"dataframe\">\n",
       "  <thead>\n",
       "    <tr style=\"text-align: right;\">\n",
       "      <th></th>\n",
       "      <th>marca</th>\n",
       "      <th>modelo</th>\n",
       "      <th>km</th>\n",
       "      <th>potencia</th>\n",
       "      <th>fecha_registro</th>\n",
       "      <th>tipo_gasolina</th>\n",
       "      <th>color</th>\n",
       "      <th>tipo_coche</th>\n",
       "      <th>volante_regulable</th>\n",
       "      <th>aire_acondicionado</th>\n",
       "      <th>camara_trasera</th>\n",
       "      <th>asientos_traseros_plegables</th>\n",
       "      <th>elevalunas_electrico</th>\n",
       "      <th>bluetooth</th>\n",
       "      <th>gps</th>\n",
       "      <th>alerta_lim_velocidad</th>\n",
       "      <th>precio</th>\n",
       "      <th>fecha_venta</th>\n",
       "    </tr>\n",
       "  </thead>\n",
       "  <tbody>\n",
       "    <tr>\n",
       "      <th>0</th>\n",
       "      <td>BMW</td>\n",
       "      <td>118</td>\n",
       "      <td>140411.0</td>\n",
       "      <td>100.0</td>\n",
       "      <td>2012-02-01</td>\n",
       "      <td>diesel</td>\n",
       "      <td>black</td>\n",
       "      <td>convertible</td>\n",
       "      <td>True</td>\n",
       "      <td>True</td>\n",
       "      <td>False</td>\n",
       "      <td>False</td>\n",
       "      <td>True</td>\n",
       "      <td>True</td>\n",
       "      <td>True</td>\n",
       "      <td>False</td>\n",
       "      <td>11300.0</td>\n",
       "      <td>2018-01-01</td>\n",
       "    </tr>\n",
       "    <tr>\n",
       "      <th>1</th>\n",
       "      <td>BMW</td>\n",
       "      <td>M4</td>\n",
       "      <td>13929.0</td>\n",
       "      <td>317.0</td>\n",
       "      <td>2016-04-01</td>\n",
       "      <td>petrol</td>\n",
       "      <td>grey</td>\n",
       "      <td>convertible</td>\n",
       "      <td>True</td>\n",
       "      <td>True</td>\n",
       "      <td>False</td>\n",
       "      <td>False</td>\n",
       "      <td>False</td>\n",
       "      <td>True</td>\n",
       "      <td>True</td>\n",
       "      <td>True</td>\n",
       "      <td>69700.0</td>\n",
       "      <td>2018-02-01</td>\n",
       "    </tr>\n",
       "    <tr>\n",
       "      <th>2</th>\n",
       "      <td>BMW</td>\n",
       "      <td>320</td>\n",
       "      <td>183297.0</td>\n",
       "      <td>120.0</td>\n",
       "      <td>2012-04-01</td>\n",
       "      <td>diesel</td>\n",
       "      <td>white</td>\n",
       "      <td>convertible</td>\n",
       "      <td>False</td>\n",
       "      <td>False</td>\n",
       "      <td>False</td>\n",
       "      <td>False</td>\n",
       "      <td>True</td>\n",
       "      <td>False</td>\n",
       "      <td>True</td>\n",
       "      <td>False</td>\n",
       "      <td>10200.0</td>\n",
       "      <td>2018-02-01</td>\n",
       "    </tr>\n",
       "    <tr>\n",
       "      <th>3</th>\n",
       "      <td>BMW</td>\n",
       "      <td>420</td>\n",
       "      <td>128035.0</td>\n",
       "      <td>135.0</td>\n",
       "      <td>2014-07-01</td>\n",
       "      <td>diesel</td>\n",
       "      <td>red</td>\n",
       "      <td>convertible</td>\n",
       "      <td>True</td>\n",
       "      <td>True</td>\n",
       "      <td>False</td>\n",
       "      <td>False</td>\n",
       "      <td>True</td>\n",
       "      <td>True</td>\n",
       "      <td>True</td>\n",
       "      <td>True</td>\n",
       "      <td>25100.0</td>\n",
       "      <td>2018-02-01</td>\n",
       "    </tr>\n",
       "    <tr>\n",
       "      <th>4</th>\n",
       "      <td>BMW</td>\n",
       "      <td>425</td>\n",
       "      <td>97097.0</td>\n",
       "      <td>160.0</td>\n",
       "      <td>2014-12-01</td>\n",
       "      <td>diesel</td>\n",
       "      <td>silver</td>\n",
       "      <td>convertible</td>\n",
       "      <td>True</td>\n",
       "      <td>True</td>\n",
       "      <td>False</td>\n",
       "      <td>False</td>\n",
       "      <td>False</td>\n",
       "      <td>True</td>\n",
       "      <td>True</td>\n",
       "      <td>True</td>\n",
       "      <td>33400.0</td>\n",
       "      <td>2018-04-01</td>\n",
       "    </tr>\n",
       "  </tbody>\n",
       "</table>\n",
       "</div>"
      ],
      "text/plain": [
       "  marca modelo        km  potencia fecha_registro tipo_gasolina   color  \\\n",
       "0   BMW    118  140411.0     100.0     2012-02-01        diesel   black   \n",
       "1   BMW     M4   13929.0     317.0     2016-04-01        petrol    grey   \n",
       "2   BMW    320  183297.0     120.0     2012-04-01        diesel   white   \n",
       "3   BMW    420  128035.0     135.0     2014-07-01        diesel     red   \n",
       "4   BMW    425   97097.0     160.0     2014-12-01        diesel  silver   \n",
       "\n",
       "    tipo_coche volante_regulable aire_acondicionado camara_trasera  \\\n",
       "0  convertible              True               True          False   \n",
       "1  convertible              True               True          False   \n",
       "2  convertible             False              False          False   \n",
       "3  convertible              True               True          False   \n",
       "4  convertible              True               True          False   \n",
       "\n",
       "  asientos_traseros_plegables elevalunas_electrico bluetooth   gps  \\\n",
       "0                       False                 True      True  True   \n",
       "1                       False                False      True  True   \n",
       "2                       False                 True     False  True   \n",
       "3                       False                 True      True  True   \n",
       "4                       False                False      True  True   \n",
       "\n",
       "  alerta_lim_velocidad   precio fecha_venta  \n",
       "0                False  11300.0  2018-01-01  \n",
       "1                 True  69700.0  2018-02-01  \n",
       "2                False  10200.0  2018-02-01  \n",
       "3                 True  25100.0  2018-02-01  \n",
       "4                 True  33400.0  2018-04-01  "
      ]
     },
     "execution_count": 196,
     "metadata": {},
     "output_type": "execute_result"
    }
   ],
   "source": [
    "df_bmw.head()"
   ]
  },
  {
   "cell_type": "code",
   "execution_count": 197,
   "id": "c00e925e",
   "metadata": {},
   "outputs": [
    {
     "name": "stdout",
     "output_type": "stream",
     "text": [
      "<class 'pandas.core.frame.DataFrame'>\n",
      "RangeIndex: 4843 entries, 0 to 4842\n",
      "Data columns (total 18 columns):\n",
      " #   Column                       Non-Null Count  Dtype  \n",
      "---  ------                       --------------  -----  \n",
      " 0   marca                        4841 non-null   object \n",
      " 1   modelo                       4840 non-null   object \n",
      " 2   km                           4841 non-null   float64\n",
      " 3   potencia                     4842 non-null   float64\n",
      " 4   fecha_registro               4842 non-null   object \n",
      " 5   tipo_gasolina                4838 non-null   object \n",
      " 6   color                        4831 non-null   object \n",
      " 7   tipo_coche                   4834 non-null   object \n",
      " 8   volante_regulable            4839 non-null   object \n",
      " 9   aire_acondicionado           4841 non-null   object \n",
      " 10  camara_trasera               4841 non-null   object \n",
      " 11  asientos_traseros_plegables  4839 non-null   object \n",
      " 12  elevalunas_electrico         4841 non-null   object \n",
      " 13  bluetooth                    4839 non-null   object \n",
      " 14  gps                          4843 non-null   bool   \n",
      " 15  alerta_lim_velocidad         4841 non-null   object \n",
      " 16  precio                       4837 non-null   float64\n",
      " 17  fecha_venta                  4842 non-null   object \n",
      "dtypes: bool(1), float64(3), object(14)\n",
      "memory usage: 648.1+ KB\n"
     ]
    }
   ],
   "source": [
    "df_bmw.info()"
   ]
  },
  {
   "cell_type": "code",
   "execution_count": 198,
   "id": "61a25d07",
   "metadata": {},
   "outputs": [
    {
     "data": {
      "text/html": [
       "<div>\n",
       "<style scoped>\n",
       "    .dataframe tbody tr th:only-of-type {\n",
       "        vertical-align: middle;\n",
       "    }\n",
       "\n",
       "    .dataframe tbody tr th {\n",
       "        vertical-align: top;\n",
       "    }\n",
       "\n",
       "    .dataframe thead th {\n",
       "        text-align: right;\n",
       "    }\n",
       "</style>\n",
       "<table border=\"1\" class=\"dataframe\">\n",
       "  <thead>\n",
       "    <tr style=\"text-align: right;\">\n",
       "      <th></th>\n",
       "      <th>count</th>\n",
       "      <th>mean</th>\n",
       "      <th>std</th>\n",
       "      <th>min</th>\n",
       "      <th>25%</th>\n",
       "      <th>50%</th>\n",
       "      <th>75%</th>\n",
       "      <th>max</th>\n",
       "    </tr>\n",
       "  </thead>\n",
       "  <tbody>\n",
       "    <tr>\n",
       "      <th>km</th>\n",
       "      <td>4841.0</td>\n",
       "      <td>140959.347862</td>\n",
       "      <td>60208.534313</td>\n",
       "      <td>-64.0</td>\n",
       "      <td>102884.0</td>\n",
       "      <td>141080.0</td>\n",
       "      <td>175217.0</td>\n",
       "      <td>1000376.0</td>\n",
       "    </tr>\n",
       "    <tr>\n",
       "      <th>potencia</th>\n",
       "      <td>4842.0</td>\n",
       "      <td>128.981826</td>\n",
       "      <td>38.994839</td>\n",
       "      <td>0.0</td>\n",
       "      <td>100.0</td>\n",
       "      <td>120.0</td>\n",
       "      <td>135.0</td>\n",
       "      <td>423.0</td>\n",
       "    </tr>\n",
       "    <tr>\n",
       "      <th>precio</th>\n",
       "      <td>4837.0</td>\n",
       "      <td>15831.920612</td>\n",
       "      <td>9222.630708</td>\n",
       "      <td>100.0</td>\n",
       "      <td>10800.0</td>\n",
       "      <td>14200.0</td>\n",
       "      <td>18600.0</td>\n",
       "      <td>178500.0</td>\n",
       "    </tr>\n",
       "  </tbody>\n",
       "</table>\n",
       "</div>"
      ],
      "text/plain": [
       "           count           mean           std    min       25%       50%  \\\n",
       "km        4841.0  140959.347862  60208.534313  -64.0  102884.0  141080.0   \n",
       "potencia  4842.0     128.981826     38.994839    0.0     100.0     120.0   \n",
       "precio    4837.0   15831.920612   9222.630708  100.0   10800.0   14200.0   \n",
       "\n",
       "               75%        max  \n",
       "km        175217.0  1000376.0  \n",
       "potencia     135.0      423.0  \n",
       "precio     18600.0   178500.0  "
      ]
     },
     "execution_count": 198,
     "metadata": {},
     "output_type": "execute_result"
    }
   ],
   "source": [
    "df_bmw.describe().T"
   ]
  },
  {
   "cell_type": "code",
   "execution_count": 199,
   "id": "50ed72ea",
   "metadata": {},
   "outputs": [
    {
     "data": {
      "text/plain": [
       "marca                           2\n",
       "modelo                          3\n",
       "km                              2\n",
       "potencia                        1\n",
       "fecha_registro                  1\n",
       "tipo_gasolina                   5\n",
       "color                          12\n",
       "tipo_coche                      9\n",
       "volante_regulable               4\n",
       "aire_acondicionado              2\n",
       "camara_trasera                  2\n",
       "asientos_traseros_plegables     4\n",
       "elevalunas_electrico            2\n",
       "bluetooth                       4\n",
       "gps                             0\n",
       "alerta_lim_velocidad            2\n",
       "precio                          6\n",
       "fecha_venta                     1\n",
       "dtype: int64"
      ]
     },
     "execution_count": 199,
     "metadata": {},
     "output_type": "execute_result"
    }
   ],
   "source": [
    "df_bmw.isnull().sum()"
   ]
  },
  {
   "cell_type": "code",
   "execution_count": 200,
   "id": "d7bdeb5a",
   "metadata": {},
   "outputs": [
    {
     "data": {
      "text/plain": [
       "0"
      ]
     },
     "execution_count": 200,
     "metadata": {},
     "output_type": "execute_result"
    }
   ],
   "source": [
    "len(df_bmw[df_bmw.duplicated()])"
   ]
  },
  {
   "cell_type": "markdown",
   "id": "6ca4896b",
   "metadata": {},
   "source": [
    "## Step 3: Analysis of each column"
   ]
  },
  {
   "cell_type": "markdown",
   "id": "8fea9d0b",
   "metadata": {},
   "source": [
    "### Target = Price"
   ]
  },
  {
   "cell_type": "code",
   "execution_count": 201,
   "id": "8f218c5f",
   "metadata": {},
   "outputs": [
    {
     "data": {
      "text/plain": [
       "<Axes: >"
      ]
     },
     "execution_count": 201,
     "metadata": {},
     "output_type": "execute_result"
    },
    {
     "data": {
      "image/png": "[encoded data removed]",
      "text/plain": [
       "<Figure size 640x480 with 1 Axes>"
      ]
     },
     "metadata": {},
     "output_type": "display_data"
    }
   ],
   "source": [
    "df_bmw['precio'].hist()"
   ]
  },
  {
   "cell_type": "code",
   "execution_count": 202,
   "id": "bfab37b5",
   "metadata": {},
   "outputs": [
    {
     "data": {
      "text/plain": [
       "<Axes: xlabel='precio'>"
      ]
     },
     "execution_count": 202,
     "metadata": {},
     "output_type": "execute_result"
    },
    {
     "data": {
      "image/png": "[encoded data removed]",
      "text/plain": [
       "<Figure size 640x480 with 1 Axes>"
      ]
     },
     "metadata": {},
     "output_type": "display_data"
    }
   ],
   "source": [
    "sns.boxplot(x=df_bmw[\"precio\"])"
   ]
  },
  {
   "cell_type": "code",
   "execution_count": 203,
   "id": "670544f7",
   "metadata": {},
   "outputs": [
    {
     "data": {
      "text/plain": [
       "15"
      ]
     },
     "execution_count": 203,
     "metadata": {},
     "output_type": "execute_result"
    }
   ],
   "source": [
    "len(df_bmw[df_bmw['precio'] < 500])"
   ]
  },
  {
   "cell_type": "code",
   "execution_count": 204,
   "id": "524ab1c3",
   "metadata": {},
   "outputs": [
    {
     "data": {
      "text/html": [
       "<div>\n",
       "<style scoped>\n",
       "    .dataframe tbody tr th:only-of-type {\n",
       "        vertical-align: middle;\n",
       "    }\n",
       "\n",
       "    .dataframe tbody tr th {\n",
       "        vertical-align: top;\n",
       "    }\n",
       "\n",
       "    .dataframe thead th {\n",
       "        text-align: right;\n",
       "    }\n",
       "</style>\n",
       "<table border=\"1\" class=\"dataframe\">\n",
       "  <thead>\n",
       "    <tr style=\"text-align: right;\">\n",
       "      <th></th>\n",
       "      <th>marca</th>\n",
       "      <th>modelo</th>\n",
       "      <th>km</th>\n",
       "      <th>potencia</th>\n",
       "      <th>fecha_registro</th>\n",
       "      <th>tipo_gasolina</th>\n",
       "      <th>color</th>\n",
       "      <th>tipo_coche</th>\n",
       "      <th>volante_regulable</th>\n",
       "      <th>aire_acondicionado</th>\n",
       "      <th>camara_trasera</th>\n",
       "      <th>asientos_traseros_plegables</th>\n",
       "      <th>elevalunas_electrico</th>\n",
       "      <th>bluetooth</th>\n",
       "      <th>gps</th>\n",
       "      <th>alerta_lim_velocidad</th>\n",
       "      <th>precio</th>\n",
       "      <th>fecha_venta</th>\n",
       "    </tr>\n",
       "  </thead>\n",
       "  <tbody>\n",
       "    <tr>\n",
       "      <th>565</th>\n",
       "      <td>BMW</td>\n",
       "      <td>320</td>\n",
       "      <td>179358.0</td>\n",
       "      <td>120.0</td>\n",
       "      <td>2013-06-01</td>\n",
       "      <td>diesel</td>\n",
       "      <td>black</td>\n",
       "      <td>estate</td>\n",
       "      <td>False</td>\n",
       "      <td>True</td>\n",
       "      <td>False</td>\n",
       "      <td>False</td>\n",
       "      <td>False</td>\n",
       "      <td>False</td>\n",
       "      <td>True</td>\n",
       "      <td>True</td>\n",
       "      <td>100.0</td>\n",
       "      <td>2018-03-01</td>\n",
       "    </tr>\n",
       "    <tr>\n",
       "      <th>630</th>\n",
       "      <td>BMW</td>\n",
       "      <td>318</td>\n",
       "      <td>147558.0</td>\n",
       "      <td>105.0</td>\n",
       "      <td>2014-11-01</td>\n",
       "      <td>NaN</td>\n",
       "      <td>white</td>\n",
       "      <td>estate</td>\n",
       "      <td>False</td>\n",
       "      <td>True</td>\n",
       "      <td>False</td>\n",
       "      <td>False</td>\n",
       "      <td>False</td>\n",
       "      <td>False</td>\n",
       "      <td>False</td>\n",
       "      <td>True</td>\n",
       "      <td>100.0</td>\n",
       "      <td>2018-03-01</td>\n",
       "    </tr>\n",
       "    <tr>\n",
       "      <th>879</th>\n",
       "      <td>BMW</td>\n",
       "      <td>318</td>\n",
       "      <td>134156.0</td>\n",
       "      <td>105.0</td>\n",
       "      <td>2014-06-01</td>\n",
       "      <td>diesel</td>\n",
       "      <td>grey</td>\n",
       "      <td>estate</td>\n",
       "      <td>False</td>\n",
       "      <td>True</td>\n",
       "      <td>False</td>\n",
       "      <td>False</td>\n",
       "      <td>False</td>\n",
       "      <td>False</td>\n",
       "      <td>False</td>\n",
       "      <td>True</td>\n",
       "      <td>100.0</td>\n",
       "      <td>2018-04-01</td>\n",
       "    </tr>\n",
       "    <tr>\n",
       "      <th>1255</th>\n",
       "      <td>BMW</td>\n",
       "      <td>320</td>\n",
       "      <td>170381.0</td>\n",
       "      <td>135.0</td>\n",
       "      <td>2013-07-01</td>\n",
       "      <td>diesel</td>\n",
       "      <td>silver</td>\n",
       "      <td>estate</td>\n",
       "      <td>True</td>\n",
       "      <td>True</td>\n",
       "      <td>False</td>\n",
       "      <td>False</td>\n",
       "      <td>False</td>\n",
       "      <td>False</td>\n",
       "      <td>True</td>\n",
       "      <td>False</td>\n",
       "      <td>100.0</td>\n",
       "      <td>2018-05-01</td>\n",
       "    </tr>\n",
       "    <tr>\n",
       "      <th>1513</th>\n",
       "      <td>BMW</td>\n",
       "      <td>520</td>\n",
       "      <td>358332.0</td>\n",
       "      <td>100.0</td>\n",
       "      <td>2000-10-01</td>\n",
       "      <td>diesel</td>\n",
       "      <td>blue</td>\n",
       "      <td>estate</td>\n",
       "      <td>False</td>\n",
       "      <td>False</td>\n",
       "      <td>False</td>\n",
       "      <td>False</td>\n",
       "      <td>True</td>\n",
       "      <td>False</td>\n",
       "      <td>True</td>\n",
       "      <td>False</td>\n",
       "      <td>400.0</td>\n",
       "      <td>2018-07-01</td>\n",
       "    </tr>\n",
       "    <tr>\n",
       "      <th>1558</th>\n",
       "      <td>BMW</td>\n",
       "      <td>520</td>\n",
       "      <td>358333.0</td>\n",
       "      <td>100.0</td>\n",
       "      <td>2000-10-01</td>\n",
       "      <td>diesel</td>\n",
       "      <td>blue</td>\n",
       "      <td>estate</td>\n",
       "      <td>False</td>\n",
       "      <td>False</td>\n",
       "      <td>False</td>\n",
       "      <td>False</td>\n",
       "      <td>True</td>\n",
       "      <td>False</td>\n",
       "      <td>True</td>\n",
       "      <td>False</td>\n",
       "      <td>400.0</td>\n",
       "      <td>2018-07-01</td>\n",
       "    </tr>\n",
       "    <tr>\n",
       "      <th>1832</th>\n",
       "      <td>BMW</td>\n",
       "      <td>116</td>\n",
       "      <td>174524.0</td>\n",
       "      <td>85.0</td>\n",
       "      <td>2014-07-01</td>\n",
       "      <td>diesel</td>\n",
       "      <td>blue</td>\n",
       "      <td>hatchback</td>\n",
       "      <td>False</td>\n",
       "      <td>True</td>\n",
       "      <td>False</td>\n",
       "      <td>False</td>\n",
       "      <td>False</td>\n",
       "      <td>False</td>\n",
       "      <td>True</td>\n",
       "      <td>True</td>\n",
       "      <td>100.0</td>\n",
       "      <td>2018-03-01</td>\n",
       "    </tr>\n",
       "    <tr>\n",
       "      <th>2473</th>\n",
       "      <td>BMW</td>\n",
       "      <td>525</td>\n",
       "      <td>230578.0</td>\n",
       "      <td>85.0</td>\n",
       "      <td>1997-07-01</td>\n",
       "      <td>diesel</td>\n",
       "      <td>black</td>\n",
       "      <td>sedan</td>\n",
       "      <td>False</td>\n",
       "      <td>False</td>\n",
       "      <td>False</td>\n",
       "      <td>False</td>\n",
       "      <td>False</td>\n",
       "      <td>False</td>\n",
       "      <td>True</td>\n",
       "      <td>False</td>\n",
       "      <td>200.0</td>\n",
       "      <td>2018-08-01</td>\n",
       "    </tr>\n",
       "    <tr>\n",
       "      <th>2574</th>\n",
       "      <td>BMW</td>\n",
       "      <td>525</td>\n",
       "      <td>229880.0</td>\n",
       "      <td>85.0</td>\n",
       "      <td>1997-07-01</td>\n",
       "      <td>diesel</td>\n",
       "      <td>black</td>\n",
       "      <td>sedan</td>\n",
       "      <td>False</td>\n",
       "      <td>False</td>\n",
       "      <td>False</td>\n",
       "      <td>False</td>\n",
       "      <td>False</td>\n",
       "      <td>False</td>\n",
       "      <td>True</td>\n",
       "      <td>False</td>\n",
       "      <td>200.0</td>\n",
       "      <td>2018-08-01</td>\n",
       "    </tr>\n",
       "    <tr>\n",
       "      <th>2611</th>\n",
       "      <td>BMW</td>\n",
       "      <td>525</td>\n",
       "      <td>230264.0</td>\n",
       "      <td>85.0</td>\n",
       "      <td>1997-07-01</td>\n",
       "      <td>diesel</td>\n",
       "      <td>black</td>\n",
       "      <td>sedan</td>\n",
       "      <td>False</td>\n",
       "      <td>False</td>\n",
       "      <td>False</td>\n",
       "      <td>False</td>\n",
       "      <td>False</td>\n",
       "      <td>False</td>\n",
       "      <td>True</td>\n",
       "      <td>False</td>\n",
       "      <td>200.0</td>\n",
       "      <td>2018-08-01</td>\n",
       "    </tr>\n",
       "    <tr>\n",
       "      <th>2829</th>\n",
       "      <td>BMW</td>\n",
       "      <td>525</td>\n",
       "      <td>439060.0</td>\n",
       "      <td>105.0</td>\n",
       "      <td>1996-10-01</td>\n",
       "      <td>diesel</td>\n",
       "      <td>silver</td>\n",
       "      <td>sedan</td>\n",
       "      <td>False</td>\n",
       "      <td>False</td>\n",
       "      <td>True</td>\n",
       "      <td>False</td>\n",
       "      <td>False</td>\n",
       "      <td>False</td>\n",
       "      <td>True</td>\n",
       "      <td>False</td>\n",
       "      <td>100.0</td>\n",
       "      <td>2018-03-01</td>\n",
       "    </tr>\n",
       "    <tr>\n",
       "      <th>3062</th>\n",
       "      <td>BMW</td>\n",
       "      <td>318</td>\n",
       "      <td>98097.0</td>\n",
       "      <td>85.0</td>\n",
       "      <td>1994-01-01</td>\n",
       "      <td>petrol</td>\n",
       "      <td>blue</td>\n",
       "      <td>sedan</td>\n",
       "      <td>True</td>\n",
       "      <td>False</td>\n",
       "      <td>False</td>\n",
       "      <td>False</td>\n",
       "      <td>False</td>\n",
       "      <td>False</td>\n",
       "      <td>True</td>\n",
       "      <td>True</td>\n",
       "      <td>400.0</td>\n",
       "      <td>2018-04-01</td>\n",
       "    </tr>\n",
       "    <tr>\n",
       "      <th>3449</th>\n",
       "      <td>BMW</td>\n",
       "      <td>316</td>\n",
       "      <td>184233.0</td>\n",
       "      <td>77.0</td>\n",
       "      <td>1999-06-01</td>\n",
       "      <td>petrol</td>\n",
       "      <td>grey</td>\n",
       "      <td>sedan</td>\n",
       "      <td>False</td>\n",
       "      <td>False</td>\n",
       "      <td>False</td>\n",
       "      <td>False</td>\n",
       "      <td>False</td>\n",
       "      <td>False</td>\n",
       "      <td>True</td>\n",
       "      <td>False</td>\n",
       "      <td>400.0</td>\n",
       "      <td>2018-07-01</td>\n",
       "    </tr>\n",
       "    <tr>\n",
       "      <th>3575</th>\n",
       "      <td>BMW</td>\n",
       "      <td>316</td>\n",
       "      <td>359661.0</td>\n",
       "      <td>75.0</td>\n",
       "      <td>1997-09-01</td>\n",
       "      <td>petrol</td>\n",
       "      <td>grey</td>\n",
       "      <td>sedan</td>\n",
       "      <td>False</td>\n",
       "      <td>False</td>\n",
       "      <td>False</td>\n",
       "      <td>False</td>\n",
       "      <td>False</td>\n",
       "      <td>False</td>\n",
       "      <td>True</td>\n",
       "      <td>False</td>\n",
       "      <td>400.0</td>\n",
       "      <td>2018-08-01</td>\n",
       "    </tr>\n",
       "    <tr>\n",
       "      <th>4356</th>\n",
       "      <td>BMW</td>\n",
       "      <td>X3</td>\n",
       "      <td>79685.0</td>\n",
       "      <td>190.0</td>\n",
       "      <td>2014-02-01</td>\n",
       "      <td>diesel</td>\n",
       "      <td>black</td>\n",
       "      <td>suv</td>\n",
       "      <td>False</td>\n",
       "      <td>False</td>\n",
       "      <td>False</td>\n",
       "      <td>False</td>\n",
       "      <td>False</td>\n",
       "      <td>False</td>\n",
       "      <td>False</td>\n",
       "      <td>True</td>\n",
       "      <td>100.0</td>\n",
       "      <td>2018-05-01</td>\n",
       "    </tr>\n",
       "  </tbody>\n",
       "</table>\n",
       "</div>"
      ],
      "text/plain": [
       "     marca modelo        km  potencia fecha_registro tipo_gasolina   color  \\\n",
       "565    BMW    320  179358.0     120.0     2013-06-01        diesel   black   \n",
       "630    BMW    318  147558.0     105.0     2014-11-01           NaN   white   \n",
       "879    BMW    318  134156.0     105.0     2014-06-01        diesel    grey   \n",
       "1255   BMW    320  170381.0     135.0     2013-07-01        diesel  silver   \n",
       "1513   BMW    520  358332.0     100.0     2000-10-01        diesel    blue   \n",
       "1558   BMW    520  358333.0     100.0     2000-10-01        diesel    blue   \n",
       "1832   BMW    116  174524.0      85.0     2014-07-01        diesel    blue   \n",
       "2473   BMW    525  230578.0      85.0     1997-07-01        diesel   black   \n",
       "2574   BMW    525  229880.0      85.0     1997-07-01        diesel   black   \n",
       "2611   BMW    525  230264.0      85.0     1997-07-01        diesel   black   \n",
       "2829   BMW    525  439060.0     105.0     1996-10-01        diesel  silver   \n",
       "3062   BMW    318   98097.0      85.0     1994-01-01        petrol    blue   \n",
       "3449   BMW    316  184233.0      77.0     1999-06-01        petrol    grey   \n",
       "3575   BMW    316  359661.0      75.0     1997-09-01        petrol    grey   \n",
       "4356   BMW     X3   79685.0     190.0     2014-02-01        diesel   black   \n",
       "\n",
       "     tipo_coche volante_regulable aire_acondicionado camara_trasera  \\\n",
       "565      estate             False               True          False   \n",
       "630      estate             False               True          False   \n",
       "879      estate             False               True          False   \n",
       "1255     estate              True               True          False   \n",
       "1513     estate             False              False          False   \n",
       "1558     estate             False              False          False   \n",
       "1832  hatchback             False               True          False   \n",
       "2473      sedan             False              False          False   \n",
       "2574      sedan             False              False          False   \n",
       "2611      sedan             False              False          False   \n",
       "2829      sedan             False              False           True   \n",
       "3062      sedan              True              False          False   \n",
       "3449      sedan             False              False          False   \n",
       "3575      sedan             False              False          False   \n",
       "4356        suv             False              False          False   \n",
       "\n",
       "     asientos_traseros_plegables elevalunas_electrico bluetooth    gps  \\\n",
       "565                        False                False     False   True   \n",
       "630                        False                False     False  False   \n",
       "879                        False                False     False  False   \n",
       "1255                       False                False     False   True   \n",
       "1513                       False                 True     False   True   \n",
       "1558                       False                 True     False   True   \n",
       "1832                       False                False     False   True   \n",
       "2473                       False                False     False   True   \n",
       "2574                       False                False     False   True   \n",
       "2611                       False                False     False   True   \n",
       "2829                       False                False     False   True   \n",
       "3062                       False                False     False   True   \n",
       "3449                       False                False     False   True   \n",
       "3575                       False                False     False   True   \n",
       "4356                       False                False     False  False   \n",
       "\n",
       "     alerta_lim_velocidad  precio fecha_venta  \n",
       "565                  True   100.0  2018-03-01  \n",
       "630                  True   100.0  2018-03-01  \n",
       "879                  True   100.0  2018-04-01  \n",
       "1255                False   100.0  2018-05-01  \n",
       "1513                False   400.0  2018-07-01  \n",
       "1558                False   400.0  2018-07-01  \n",
       "1832                 True   100.0  2018-03-01  \n",
       "2473                False   200.0  2018-08-01  \n",
       "2574                False   200.0  2018-08-01  \n",
       "2611                False   200.0  2018-08-01  \n",
       "2829                False   100.0  2018-03-01  \n",
       "3062                 True   400.0  2018-04-01  \n",
       "3449                False   400.0  2018-07-01  \n",
       "3575                False   400.0  2018-08-01  \n",
       "4356                 True   100.0  2018-05-01  "
      ]
     },
     "execution_count": 204,
     "metadata": {},
     "output_type": "execute_result"
    }
   ],
   "source": [
    "df_bmw[df_bmw['precio'] < 500]"
   ]
  },
  {
   "cell_type": "code",
   "execution_count": 205,
   "id": "a356fab8",
   "metadata": {},
   "outputs": [],
   "source": [
    "# Delete prices < 500\n",
    "\n",
    "df_bmw.drop(df_bmw[df_bmw['precio'] <500].index, inplace=True)"
   ]
  },
  {
   "cell_type": "code",
   "execution_count": 206,
   "id": "949eb74a",
   "metadata": {},
   "outputs": [
    {
     "data": {
      "text/plain": [
       "2"
      ]
     },
     "execution_count": 206,
     "metadata": {},
     "output_type": "execute_result"
    }
   ],
   "source": [
    "len(df_bmw[df_bmw['precio'] > 100000])"
   ]
  },
  {
   "cell_type": "code",
   "execution_count": 207,
   "id": "438afadf",
   "metadata": {},
   "outputs": [],
   "source": [
    "# Delete prices > 100.000\n",
    "\n",
    "df_bmw.drop(df_bmw[df_bmw['precio'] > 100000].index, inplace=True)"
   ]
  },
  {
   "cell_type": "code",
   "execution_count": 208,
   "id": "79376305",
   "metadata": {},
   "outputs": [
    {
     "data": {
      "text/plain": [
       "<Axes: >"
      ]
     },
     "execution_count": 208,
     "metadata": {},
     "output_type": "execute_result"
    },
    {
     "data": {
      "image/png": "[encoded data removed]",
      "text/plain": [
       "<Figure size 640x480 with 1 Axes>"
      ]
     },
     "metadata": {},
     "output_type": "display_data"
    }
   ],
   "source": [
    "df_bmw['precio'].hist()"
   ]
  },
  {
   "cell_type": "markdown",
   "id": "2541a264",
   "metadata": {},
   "source": [
    "### Brand"
   ]
  },
  {
   "cell_type": "code",
   "execution_count": 209,
   "id": "3c867e60",
   "metadata": {},
   "outputs": [
    {
     "data": {
      "text/plain": [
       "BMW    4824\n",
       "Name: marca, dtype: int64"
      ]
     },
     "execution_count": 209,
     "metadata": {},
     "output_type": "execute_result"
    }
   ],
   "source": [
    "df_bmw['marca'].value_counts() "
   ]
  },
  {
   "cell_type": "code",
   "execution_count": 210,
   "id": "b4d43aca",
   "metadata": {},
   "outputs": [],
   "source": [
    "#Delete \"brand\" column\n",
    "\n",
    "del(df_bmw['marca'])"
   ]
  },
  {
   "cell_type": "markdown",
   "id": "09e74c18",
   "metadata": {},
   "source": [
    "### Type of Car"
   ]
  },
  {
   "cell_type": "code",
   "execution_count": 211,
   "id": "8e995859",
   "metadata": {},
   "outputs": [
    {
     "data": {
      "text/plain": [
       "estate         1598\n",
       "sedan          1160\n",
       "suv            1054\n",
       "hatchback       698\n",
       "subcompact      113\n",
       "coupe           104\n",
       "convertible      47\n",
       "van              43\n",
       "Name: tipo_coche, dtype: int64"
      ]
     },
     "execution_count": 211,
     "metadata": {},
     "output_type": "execute_result"
    }
   ],
   "source": [
    "df_bmw['tipo_coche'].value_counts()"
   ]
  },
  {
   "cell_type": "code",
   "execution_count": 212,
   "id": "542fe51d",
   "metadata": {},
   "outputs": [
    {
     "data": {
      "text/plain": [
       "<Axes: xlabel='tipo_coche', ylabel='precio'>"
      ]
     },
     "execution_count": 212,
     "metadata": {},
     "output_type": "execute_result"
    },
    {
     "data": {
      "image/png": "[encoded data removed]",
      "text/plain": [
       "<Figure size 640x480 with 1 Axes>"
      ]
     },
     "metadata": {},
     "output_type": "display_data"
    }
   ],
   "source": [
    "sns.violinplot(x=\"tipo_coche\", y=\"precio\", data=df_bmw)"
   ]
  },
  {
   "cell_type": "markdown",
   "id": "f4aa6372",
   "metadata": {},
   "source": [
    "### Model"
   ]
  },
  {
   "cell_type": "code",
   "execution_count": 213,
   "id": "3d1327f0",
   "metadata": {},
   "outputs": [
    {
     "data": {
      "text/html": [
       "<div>\n",
       "<style scoped>\n",
       "    .dataframe tbody tr th:only-of-type {\n",
       "        vertical-align: middle;\n",
       "    }\n",
       "\n",
       "    .dataframe tbody tr th {\n",
       "        vertical-align: top;\n",
       "    }\n",
       "\n",
       "    .dataframe thead th {\n",
       "        text-align: right;\n",
       "    }\n",
       "</style>\n",
       "<table border=\"1\" class=\"dataframe\">\n",
       "  <thead>\n",
       "    <tr style=\"text-align: right;\">\n",
       "      <th></th>\n",
       "      <th>modelo</th>\n",
       "      <th>km</th>\n",
       "      <th>potencia</th>\n",
       "      <th>fecha_registro</th>\n",
       "      <th>tipo_gasolina</th>\n",
       "      <th>color</th>\n",
       "      <th>tipo_coche</th>\n",
       "      <th>volante_regulable</th>\n",
       "      <th>aire_acondicionado</th>\n",
       "      <th>camara_trasera</th>\n",
       "      <th>asientos_traseros_plegables</th>\n",
       "      <th>elevalunas_electrico</th>\n",
       "      <th>bluetooth</th>\n",
       "      <th>gps</th>\n",
       "      <th>alerta_lim_velocidad</th>\n",
       "      <th>precio</th>\n",
       "      <th>fecha_venta</th>\n",
       "    </tr>\n",
       "  </thead>\n",
       "  <tbody>\n",
       "    <tr>\n",
       "      <th>173</th>\n",
       "      <td>NaN</td>\n",
       "      <td>146338.0</td>\n",
       "      <td>105.0</td>\n",
       "      <td>2014-01-01</td>\n",
       "      <td>diesel</td>\n",
       "      <td>black</td>\n",
       "      <td>estate</td>\n",
       "      <td>False</td>\n",
       "      <td>True</td>\n",
       "      <td>False</td>\n",
       "      <td>False</td>\n",
       "      <td>False</td>\n",
       "      <td>False</td>\n",
       "      <td>True</td>\n",
       "      <td>True</td>\n",
       "      <td>13300.0</td>\n",
       "      <td>2018-08-01</td>\n",
       "    </tr>\n",
       "    <tr>\n",
       "      <th>4766</th>\n",
       "      <td>NaN</td>\n",
       "      <td>115566.0</td>\n",
       "      <td>105.0</td>\n",
       "      <td>2014-01-01</td>\n",
       "      <td>diesel</td>\n",
       "      <td>silver</td>\n",
       "      <td>suv</td>\n",
       "      <td>False</td>\n",
       "      <td>True</td>\n",
       "      <td>False</td>\n",
       "      <td>True</td>\n",
       "      <td>True</td>\n",
       "      <td>False</td>\n",
       "      <td>True</td>\n",
       "      <td>False</td>\n",
       "      <td>14900.0</td>\n",
       "      <td>2018-09-01</td>\n",
       "    </tr>\n",
       "    <tr>\n",
       "      <th>4802</th>\n",
       "      <td>NaN</td>\n",
       "      <td>118640.0</td>\n",
       "      <td>110.0</td>\n",
       "      <td>2014-09-01</td>\n",
       "      <td>diesel</td>\n",
       "      <td>white</td>\n",
       "      <td>van</td>\n",
       "      <td>False</td>\n",
       "      <td>False</td>\n",
       "      <td>False</td>\n",
       "      <td>False</td>\n",
       "      <td>False</td>\n",
       "      <td>False</td>\n",
       "      <td>False</td>\n",
       "      <td>False</td>\n",
       "      <td>800.0</td>\n",
       "      <td>2018-03-01</td>\n",
       "    </tr>\n",
       "  </tbody>\n",
       "</table>\n",
       "</div>"
      ],
      "text/plain": [
       "     modelo        km  potencia fecha_registro tipo_gasolina   color  \\\n",
       "173     NaN  146338.0     105.0     2014-01-01        diesel   black   \n",
       "4766    NaN  115566.0     105.0     2014-01-01        diesel  silver   \n",
       "4802    NaN  118640.0     110.0     2014-09-01        diesel   white   \n",
       "\n",
       "     tipo_coche volante_regulable aire_acondicionado camara_trasera  \\\n",
       "173      estate             False               True          False   \n",
       "4766        suv             False               True          False   \n",
       "4802        van             False              False          False   \n",
       "\n",
       "     asientos_traseros_plegables elevalunas_electrico bluetooth    gps  \\\n",
       "173                        False                False     False   True   \n",
       "4766                        True                 True     False   True   \n",
       "4802                       False                False     False  False   \n",
       "\n",
       "     alerta_lim_velocidad   precio fecha_venta  \n",
       "173                  True  13300.0  2018-08-01  \n",
       "4766                False  14900.0  2018-09-01  \n",
       "4802                False    800.0  2018-03-01  "
      ]
     },
     "execution_count": 213,
     "metadata": {},
     "output_type": "execute_result"
    }
   ],
   "source": [
    "df_bmw[df_bmw['modelo'].isnull()]"
   ]
  },
  {
   "cell_type": "code",
   "execution_count": 214,
   "id": "129cd754",
   "metadata": {},
   "outputs": [
    {
     "data": {
      "text/plain": [
       "76"
      ]
     },
     "execution_count": 214,
     "metadata": {},
     "output_type": "execute_result"
    }
   ],
   "source": [
    "len(df_bmw[\"modelo\"].value_counts())"
   ]
  },
  {
   "cell_type": "code",
   "execution_count": 215,
   "id": "c6eee8e3",
   "metadata": {},
   "outputs": [
    {
     "data": {
      "text/html": [
       "<div>\n",
       "<style scoped>\n",
       "    .dataframe tbody tr th:only-of-type {\n",
       "        vertical-align: middle;\n",
       "    }\n",
       "\n",
       "    .dataframe tbody tr th {\n",
       "        vertical-align: top;\n",
       "    }\n",
       "\n",
       "    .dataframe thead th {\n",
       "        text-align: right;\n",
       "    }\n",
       "</style>\n",
       "<table border=\"1\" class=\"dataframe\">\n",
       "  <thead>\n",
       "    <tr style=\"text-align: right;\">\n",
       "      <th></th>\n",
       "      <th>modelo</th>\n",
       "      <th>km</th>\n",
       "      <th>potencia</th>\n",
       "      <th>fecha_registro</th>\n",
       "      <th>tipo_gasolina</th>\n",
       "      <th>color</th>\n",
       "      <th>tipo_coche</th>\n",
       "      <th>volante_regulable</th>\n",
       "      <th>aire_acondicionado</th>\n",
       "      <th>camara_trasera</th>\n",
       "      <th>asientos_traseros_plegables</th>\n",
       "      <th>elevalunas_electrico</th>\n",
       "      <th>bluetooth</th>\n",
       "      <th>gps</th>\n",
       "      <th>alerta_lim_velocidad</th>\n",
       "      <th>precio</th>\n",
       "      <th>fecha_venta</th>\n",
       "    </tr>\n",
       "  </thead>\n",
       "  <tbody>\n",
       "    <tr>\n",
       "      <th>90</th>\n",
       "      <td>i8</td>\n",
       "      <td>12402.0</td>\n",
       "      <td>170.0</td>\n",
       "      <td>2016-01-01</td>\n",
       "      <td>hybrid_petrol</td>\n",
       "      <td>grey</td>\n",
       "      <td>coupe</td>\n",
       "      <td>True</td>\n",
       "      <td>True</td>\n",
       "      <td>False</td>\n",
       "      <td>False</td>\n",
       "      <td>False</td>\n",
       "      <td>False</td>\n",
       "      <td>False</td>\n",
       "      <td>True</td>\n",
       "      <td>95200.0</td>\n",
       "      <td>2018-04-01</td>\n",
       "    </tr>\n",
       "  </tbody>\n",
       "</table>\n",
       "</div>"
      ],
      "text/plain": [
       "   modelo       km  potencia fecha_registro  tipo_gasolina color tipo_coche  \\\n",
       "90     i8  12402.0     170.0     2016-01-01  hybrid_petrol  grey      coupe   \n",
       "\n",
       "   volante_regulable aire_acondicionado camara_trasera  \\\n",
       "90              True               True          False   \n",
       "\n",
       "   asientos_traseros_plegables elevalunas_electrico bluetooth    gps  \\\n",
       "90                       False                False     False  False   \n",
       "\n",
       "   alerta_lim_velocidad   precio fecha_venta  \n",
       "90                 True  95200.0  2018-04-01  "
      ]
     },
     "execution_count": 215,
     "metadata": {},
     "output_type": "execute_result"
    }
   ],
   "source": [
    "df_bmw[(df_bmw[\"modelo\"] == \"i8\") & (df_bmw[\"precio\"]>50000)]"
   ]
  },
  {
   "cell_type": "code",
   "execution_count": 216,
   "id": "18b88aad",
   "metadata": {},
   "outputs": [],
   "source": [
    "df_bmw = df_bmw.drop(df_bmw[(df_bmw[\"modelo\"] == \"i8\") & (df_bmw[\"precio\"] > 50000)].index)"
   ]
  },
  {
   "cell_type": "code",
   "execution_count": 217,
   "id": "296ab1d8",
   "metadata": {},
   "outputs": [
    {
     "data": {
      "text/html": [
       "<div>\n",
       "<style scoped>\n",
       "    .dataframe tbody tr th:only-of-type {\n",
       "        vertical-align: middle;\n",
       "    }\n",
       "\n",
       "    .dataframe tbody tr th {\n",
       "        vertical-align: top;\n",
       "    }\n",
       "\n",
       "    .dataframe thead th {\n",
       "        text-align: right;\n",
       "    }\n",
       "</style>\n",
       "<table border=\"1\" class=\"dataframe\">\n",
       "  <thead>\n",
       "    <tr style=\"text-align: right;\">\n",
       "      <th></th>\n",
       "      <th>modelo</th>\n",
       "      <th>km</th>\n",
       "      <th>potencia</th>\n",
       "      <th>fecha_registro</th>\n",
       "      <th>tipo_gasolina</th>\n",
       "      <th>color</th>\n",
       "      <th>tipo_coche</th>\n",
       "      <th>volante_regulable</th>\n",
       "      <th>aire_acondicionado</th>\n",
       "      <th>camara_trasera</th>\n",
       "      <th>asientos_traseros_plegables</th>\n",
       "      <th>elevalunas_electrico</th>\n",
       "      <th>bluetooth</th>\n",
       "      <th>gps</th>\n",
       "      <th>alerta_lim_velocidad</th>\n",
       "      <th>precio</th>\n",
       "      <th>fecha_venta</th>\n",
       "    </tr>\n",
       "  </thead>\n",
       "  <tbody>\n",
       "  </tbody>\n",
       "</table>\n",
       "</div>"
      ],
      "text/plain": [
       "Empty DataFrame\n",
       "Columns: [modelo, km, potencia, fecha_registro, tipo_gasolina, color, tipo_coche, volante_regulable, aire_acondicionado, camara_trasera, asientos_traseros_plegables, elevalunas_electrico, bluetooth, gps, alerta_lim_velocidad, precio, fecha_venta]\n",
       "Index: []"
      ]
     },
     "execution_count": 217,
     "metadata": {},
     "output_type": "execute_result"
    }
   ],
   "source": [
    "df_bmw[(df_bmw[\"modelo\"] == \"X3\") & (df_bmw[\"precio\"]>50000)]"
   ]
  },
  {
   "cell_type": "code",
   "execution_count": 218,
   "id": "895f2619",
   "metadata": {},
   "outputs": [],
   "source": [
    "df_bmw = df_bmw.drop(df_bmw[(df_bmw[\"modelo\"] == \"X3\") & (df_bmw[\"precio\"] > 50000)].index)"
   ]
  },
  {
   "cell_type": "code",
   "execution_count": 219,
   "id": "0009ae0e",
   "metadata": {},
   "outputs": [],
   "source": [
    "df_bmw = df_bmw.drop(df_bmw[(df_bmw[\"modelo\"] == \"i8\") & (df_bmw[\"precio\"] > 1000)].index)"
   ]
  },
  {
   "cell_type": "code",
   "execution_count": 220,
   "id": "7301c218",
   "metadata": {},
   "outputs": [
    {
     "data": {
      "text/html": [
       "<div>\n",
       "<style scoped>\n",
       "    .dataframe tbody tr th:only-of-type {\n",
       "        vertical-align: middle;\n",
       "    }\n",
       "\n",
       "    .dataframe tbody tr th {\n",
       "        vertical-align: top;\n",
       "    }\n",
       "\n",
       "    .dataframe thead th {\n",
       "        text-align: right;\n",
       "    }\n",
       "</style>\n",
       "<table border=\"1\" class=\"dataframe\">\n",
       "  <thead>\n",
       "    <tr style=\"text-align: right;\">\n",
       "      <th></th>\n",
       "      <th>modelo</th>\n",
       "      <th>km</th>\n",
       "      <th>potencia</th>\n",
       "      <th>fecha_registro</th>\n",
       "      <th>tipo_gasolina</th>\n",
       "      <th>color</th>\n",
       "      <th>tipo_coche</th>\n",
       "      <th>volante_regulable</th>\n",
       "      <th>aire_acondicionado</th>\n",
       "      <th>camara_trasera</th>\n",
       "      <th>asientos_traseros_plegables</th>\n",
       "      <th>elevalunas_electrico</th>\n",
       "      <th>bluetooth</th>\n",
       "      <th>gps</th>\n",
       "      <th>alerta_lim_velocidad</th>\n",
       "      <th>precio</th>\n",
       "      <th>fecha_venta</th>\n",
       "    </tr>\n",
       "  </thead>\n",
       "  <tbody>\n",
       "    <tr>\n",
       "      <th>4110</th>\n",
       "      <td>X5 M</td>\n",
       "      <td>25931.0</td>\n",
       "      <td>190.0</td>\n",
       "      <td>2016-01-01</td>\n",
       "      <td>diesel</td>\n",
       "      <td>white</td>\n",
       "      <td>suv</td>\n",
       "      <td>True</td>\n",
       "      <td>True</td>\n",
       "      <td>False</td>\n",
       "      <td>False</td>\n",
       "      <td>False</td>\n",
       "      <td>False</td>\n",
       "      <td>True</td>\n",
       "      <td>True</td>\n",
       "      <td>63100.0</td>\n",
       "      <td>2018-04-01</td>\n",
       "    </tr>\n",
       "    <tr>\n",
       "      <th>4731</th>\n",
       "      <td>X5 M</td>\n",
       "      <td>4530.0</td>\n",
       "      <td>230.0</td>\n",
       "      <td>2016-07-01</td>\n",
       "      <td>diesel</td>\n",
       "      <td>silver</td>\n",
       "      <td>suv</td>\n",
       "      <td>True</td>\n",
       "      <td>True</td>\n",
       "      <td>False</td>\n",
       "      <td>True</td>\n",
       "      <td>False</td>\n",
       "      <td>False</td>\n",
       "      <td>False</td>\n",
       "      <td>True</td>\n",
       "      <td>73100.0</td>\n",
       "      <td>2018-08-01</td>\n",
       "    </tr>\n",
       "  </tbody>\n",
       "</table>\n",
       "</div>"
      ],
      "text/plain": [
       "     modelo       km  potencia fecha_registro tipo_gasolina   color  \\\n",
       "4110   X5 M  25931.0     190.0     2016-01-01        diesel   white   \n",
       "4731   X5 M   4530.0     230.0     2016-07-01        diesel  silver   \n",
       "\n",
       "     tipo_coche volante_regulable aire_acondicionado camara_trasera  \\\n",
       "4110        suv              True               True          False   \n",
       "4731        suv              True               True          False   \n",
       "\n",
       "     asientos_traseros_plegables elevalunas_electrico bluetooth    gps  \\\n",
       "4110                       False                False     False   True   \n",
       "4731                        True                False     False  False   \n",
       "\n",
       "     alerta_lim_velocidad   precio fecha_venta  \n",
       "4110                 True  63100.0  2018-04-01  \n",
       "4731                 True  73100.0  2018-08-01  "
      ]
     },
     "execution_count": 220,
     "metadata": {},
     "output_type": "execute_result"
    }
   ],
   "source": [
    "df_bmw[(df_bmw[\"modelo\"] == \"X5 M\") & (df_bmw[\"precio\"]>50000)]"
   ]
  },
  {
   "cell_type": "markdown",
   "id": "a8a7a857",
   "metadata": {},
   "source": [
    "### Type of Gas"
   ]
  },
  {
   "cell_type": "code",
   "execution_count": 221,
   "id": "b66ac1a9",
   "metadata": {},
   "outputs": [
    {
     "data": {
      "text/html": [
       "<div>\n",
       "<style scoped>\n",
       "    .dataframe tbody tr th:only-of-type {\n",
       "        vertical-align: middle;\n",
       "    }\n",
       "\n",
       "    .dataframe tbody tr th {\n",
       "        vertical-align: top;\n",
       "    }\n",
       "\n",
       "    .dataframe thead th {\n",
       "        text-align: right;\n",
       "    }\n",
       "</style>\n",
       "<table border=\"1\" class=\"dataframe\">\n",
       "  <thead>\n",
       "    <tr style=\"text-align: right;\">\n",
       "      <th></th>\n",
       "      <th>modelo</th>\n",
       "      <th>km</th>\n",
       "      <th>potencia</th>\n",
       "      <th>fecha_registro</th>\n",
       "      <th>tipo_gasolina</th>\n",
       "      <th>color</th>\n",
       "      <th>tipo_coche</th>\n",
       "      <th>volante_regulable</th>\n",
       "      <th>aire_acondicionado</th>\n",
       "      <th>camara_trasera</th>\n",
       "      <th>asientos_traseros_plegables</th>\n",
       "      <th>elevalunas_electrico</th>\n",
       "      <th>bluetooth</th>\n",
       "      <th>gps</th>\n",
       "      <th>alerta_lim_velocidad</th>\n",
       "      <th>precio</th>\n",
       "      <th>fecha_venta</th>\n",
       "    </tr>\n",
       "  </thead>\n",
       "  <tbody>\n",
       "    <tr>\n",
       "      <th>82</th>\n",
       "      <td>420</td>\n",
       "      <td>54993.0</td>\n",
       "      <td>135.0</td>\n",
       "      <td>2014-03-01</td>\n",
       "      <td>NaN</td>\n",
       "      <td>black</td>\n",
       "      <td>coupe</td>\n",
       "      <td>False</td>\n",
       "      <td>False</td>\n",
       "      <td>False</td>\n",
       "      <td>False</td>\n",
       "      <td>False</td>\n",
       "      <td>False</td>\n",
       "      <td>False</td>\n",
       "      <td>False</td>\n",
       "      <td>18400.0</td>\n",
       "      <td>2018-03-01</td>\n",
       "    </tr>\n",
       "    <tr>\n",
       "      <th>185</th>\n",
       "      <td>320</td>\n",
       "      <td>186697.0</td>\n",
       "      <td>135.0</td>\n",
       "      <td>2012-11-01</td>\n",
       "      <td>NaN</td>\n",
       "      <td>white</td>\n",
       "      <td>estate</td>\n",
       "      <td>False</td>\n",
       "      <td>False</td>\n",
       "      <td>False</td>\n",
       "      <td>False</td>\n",
       "      <td>False</td>\n",
       "      <td>False</td>\n",
       "      <td>False</td>\n",
       "      <td>True</td>\n",
       "      <td>2400.0</td>\n",
       "      <td>2018-04-01</td>\n",
       "    </tr>\n",
       "    <tr>\n",
       "      <th>444</th>\n",
       "      <td>318</td>\n",
       "      <td>111622.0</td>\n",
       "      <td>100.0</td>\n",
       "      <td>2013-01-01</td>\n",
       "      <td>NaN</td>\n",
       "      <td>black</td>\n",
       "      <td>estate</td>\n",
       "      <td>True</td>\n",
       "      <td>True</td>\n",
       "      <td>False</td>\n",
       "      <td>False</td>\n",
       "      <td>False</td>\n",
       "      <td>False</td>\n",
       "      <td>True</td>\n",
       "      <td>True</td>\n",
       "      <td>15400.0</td>\n",
       "      <td>2018-02-01</td>\n",
       "    </tr>\n",
       "    <tr>\n",
       "      <th>480</th>\n",
       "      <td>318</td>\n",
       "      <td>170350.0</td>\n",
       "      <td>105.0</td>\n",
       "      <td>2014-02-01</td>\n",
       "      <td>NaN</td>\n",
       "      <td>white</td>\n",
       "      <td>estate</td>\n",
       "      <td>False</td>\n",
       "      <td>True</td>\n",
       "      <td>False</td>\n",
       "      <td>False</td>\n",
       "      <td>False</td>\n",
       "      <td>False</td>\n",
       "      <td>True</td>\n",
       "      <td>False</td>\n",
       "      <td>10200.0</td>\n",
       "      <td>2018-02-01</td>\n",
       "    </tr>\n",
       "  </tbody>\n",
       "</table>\n",
       "</div>"
      ],
      "text/plain": [
       "    modelo        km  potencia fecha_registro tipo_gasolina  color tipo_coche  \\\n",
       "82     420   54993.0     135.0     2014-03-01           NaN  black      coupe   \n",
       "185    320  186697.0     135.0     2012-11-01           NaN  white     estate   \n",
       "444    318  111622.0     100.0     2013-01-01           NaN  black     estate   \n",
       "480    318  170350.0     105.0     2014-02-01           NaN  white     estate   \n",
       "\n",
       "    volante_regulable aire_acondicionado camara_trasera  \\\n",
       "82              False              False          False   \n",
       "185             False              False          False   \n",
       "444              True               True          False   \n",
       "480             False               True          False   \n",
       "\n",
       "    asientos_traseros_plegables elevalunas_electrico bluetooth    gps  \\\n",
       "82                        False                False     False  False   \n",
       "185                       False                False     False  False   \n",
       "444                       False                False     False   True   \n",
       "480                       False                False     False   True   \n",
       "\n",
       "    alerta_lim_velocidad   precio fecha_venta  \n",
       "82                 False  18400.0  2018-03-01  \n",
       "185                 True   2400.0  2018-04-01  \n",
       "444                 True  15400.0  2018-02-01  \n",
       "480                False  10200.0  2018-02-01  "
      ]
     },
     "execution_count": 221,
     "metadata": {},
     "output_type": "execute_result"
    }
   ],
   "source": [
    "df_bmw[df_bmw['tipo_gasolina'].isnull()]"
   ]
  },
  {
   "cell_type": "code",
   "execution_count": 222,
   "id": "19d71a04",
   "metadata": {},
   "outputs": [
    {
     "data": {
      "text/plain": [
       "diesel           4618\n",
       "petrol            188\n",
       "hybrid_petrol       7\n",
       "Diesel              5\n",
       "electro             3\n",
       "Name: tipo_gasolina, dtype: int64"
      ]
     },
     "execution_count": 222,
     "metadata": {},
     "output_type": "execute_result"
    }
   ],
   "source": [
    "df_bmw[\"tipo_gasolina\"].value_counts()"
   ]
  },
  {
   "cell_type": "code",
   "execution_count": 223,
   "id": "06f49709",
   "metadata": {},
   "outputs": [],
   "source": [
    "# Unify Values\n",
    "\n",
    "df_bmw[\"tipo_gasolina\"]=df_bmw[\"tipo_gasolina\"].replace({'diesel':'Diesel'}) \n",
    "df_bmw['tipo_gasolina'] = df_bmw['tipo_gasolina'].replace(['Hybrid Petrol', 'Electro'], 'petrol') "
   ]
  },
  {
   "cell_type": "code",
   "execution_count": 224,
   "id": "377f7e0d",
   "metadata": {},
   "outputs": [],
   "source": [
    "df_bmw['tipo_gasolina'] = df_bmw['tipo_gasolina'].replace(['hybrid_petrol', 'electro'], 'petrol') "
   ]
  },
  {
   "cell_type": "code",
   "execution_count": 225,
   "id": "cab2ada3",
   "metadata": {},
   "outputs": [
    {
     "data": {
      "text/plain": [
       "Diesel    4623\n",
       "petrol     198\n",
       "Name: tipo_gasolina, dtype: int64"
      ]
     },
     "execution_count": 225,
     "metadata": {},
     "output_type": "execute_result"
    }
   ],
   "source": [
    "df_bmw[\"tipo_gasolina\"].value_counts()"
   ]
  },
  {
   "cell_type": "code",
   "execution_count": 226,
   "id": "ad24d30e",
   "metadata": {},
   "outputs": [
    {
     "data": {
      "text/plain": [
       "<Axes: xlabel='tipo_gasolina', ylabel='precio'>"
      ]
     },
     "execution_count": 226,
     "metadata": {},
     "output_type": "execute_result"
    },
    {
     "data": {
      "image/png": "[encoded data removed]",
      "text/plain": [
       "<Figure size 640x480 with 1 Axes>"
      ]
     },
     "metadata": {},
     "output_type": "display_data"
    }
   ],
   "source": [
    "sns.scatterplot(x=\"tipo_gasolina\", y=\"precio\", data=df_bmw)"
   ]
  },
  {
   "cell_type": "code",
   "execution_count": 227,
   "id": "605f2e23",
   "metadata": {},
   "outputs": [],
   "source": [
    "del(df_bmw['tipo_gasolina'])"
   ]
  },
  {
   "cell_type": "markdown",
   "id": "7caa0609",
   "metadata": {},
   "source": [
    "### Color"
   ]
  },
  {
   "cell_type": "code",
   "execution_count": 228,
   "id": "722ef3ff",
   "metadata": {},
   "outputs": [
    {
     "data": {
      "text/html": [
       "<div>\n",
       "<style scoped>\n",
       "    .dataframe tbody tr th:only-of-type {\n",
       "        vertical-align: middle;\n",
       "    }\n",
       "\n",
       "    .dataframe tbody tr th {\n",
       "        vertical-align: top;\n",
       "    }\n",
       "\n",
       "    .dataframe thead th {\n",
       "        text-align: right;\n",
       "    }\n",
       "</style>\n",
       "<table border=\"1\" class=\"dataframe\">\n",
       "  <thead>\n",
       "    <tr style=\"text-align: right;\">\n",
       "      <th></th>\n",
       "      <th>modelo</th>\n",
       "      <th>km</th>\n",
       "      <th>potencia</th>\n",
       "      <th>fecha_registro</th>\n",
       "      <th>color</th>\n",
       "      <th>tipo_coche</th>\n",
       "      <th>volante_regulable</th>\n",
       "      <th>aire_acondicionado</th>\n",
       "      <th>camara_trasera</th>\n",
       "      <th>asientos_traseros_plegables</th>\n",
       "      <th>elevalunas_electrico</th>\n",
       "      <th>bluetooth</th>\n",
       "      <th>gps</th>\n",
       "      <th>alerta_lim_velocidad</th>\n",
       "      <th>precio</th>\n",
       "      <th>fecha_venta</th>\n",
       "    </tr>\n",
       "  </thead>\n",
       "  <tbody>\n",
       "    <tr>\n",
       "      <th>239</th>\n",
       "      <td>318</td>\n",
       "      <td>132731.0</td>\n",
       "      <td>100.0</td>\n",
       "      <td>2013-09-01</td>\n",
       "      <td>NaN</td>\n",
       "      <td>estate</td>\n",
       "      <td>True</td>\n",
       "      <td>True</td>\n",
       "      <td>False</td>\n",
       "      <td>False</td>\n",
       "      <td>False</td>\n",
       "      <td>False</td>\n",
       "      <td>True</td>\n",
       "      <td>True</td>\n",
       "      <td>12500.0</td>\n",
       "      <td>2018-01-01</td>\n",
       "    </tr>\n",
       "    <tr>\n",
       "      <th>834</th>\n",
       "      <td>318</td>\n",
       "      <td>148429.0</td>\n",
       "      <td>100.0</td>\n",
       "      <td>2013-06-01</td>\n",
       "      <td>NaN</td>\n",
       "      <td>estate</td>\n",
       "      <td>False</td>\n",
       "      <td>True</td>\n",
       "      <td>False</td>\n",
       "      <td>False</td>\n",
       "      <td>False</td>\n",
       "      <td>True</td>\n",
       "      <td>True</td>\n",
       "      <td>False</td>\n",
       "      <td>10500.0</td>\n",
       "      <td>2018-04-01</td>\n",
       "    </tr>\n",
       "    <tr>\n",
       "      <th>855</th>\n",
       "      <td>318</td>\n",
       "      <td>139736.0</td>\n",
       "      <td>100.0</td>\n",
       "      <td>2009-02-01</td>\n",
       "      <td>NaN</td>\n",
       "      <td>estate</td>\n",
       "      <td>False</td>\n",
       "      <td>False</td>\n",
       "      <td>False</td>\n",
       "      <td>False</td>\n",
       "      <td>False</td>\n",
       "      <td>False</td>\n",
       "      <td>True</td>\n",
       "      <td>False</td>\n",
       "      <td>5800.0</td>\n",
       "      <td>2018-04-01</td>\n",
       "    </tr>\n",
       "    <tr>\n",
       "      <th>864</th>\n",
       "      <td>318</td>\n",
       "      <td>157661.0</td>\n",
       "      <td>100.0</td>\n",
       "      <td>2013-06-01</td>\n",
       "      <td>NaN</td>\n",
       "      <td>estate</td>\n",
       "      <td>False</td>\n",
       "      <td>True</td>\n",
       "      <td>False</td>\n",
       "      <td>False</td>\n",
       "      <td>False</td>\n",
       "      <td>False</td>\n",
       "      <td>True</td>\n",
       "      <td>False</td>\n",
       "      <td>7700.0</td>\n",
       "      <td>2018-04-01</td>\n",
       "    </tr>\n",
       "    <tr>\n",
       "      <th>884</th>\n",
       "      <td>320</td>\n",
       "      <td>145981.0</td>\n",
       "      <td>122.0</td>\n",
       "      <td>2013-07-01</td>\n",
       "      <td>NaN</td>\n",
       "      <td>estate</td>\n",
       "      <td>True</td>\n",
       "      <td>True</td>\n",
       "      <td>False</td>\n",
       "      <td>False</td>\n",
       "      <td>True</td>\n",
       "      <td>True</td>\n",
       "      <td>True</td>\n",
       "      <td>False</td>\n",
       "      <td>15800.0</td>\n",
       "      <td>2018-04-01</td>\n",
       "    </tr>\n",
       "    <tr>\n",
       "      <th>904</th>\n",
       "      <td>320</td>\n",
       "      <td>126425.0</td>\n",
       "      <td>120.0</td>\n",
       "      <td>2013-07-01</td>\n",
       "      <td>NaN</td>\n",
       "      <td>estate</td>\n",
       "      <td>False</td>\n",
       "      <td>True</td>\n",
       "      <td>False</td>\n",
       "      <td>False</td>\n",
       "      <td>False</td>\n",
       "      <td>False</td>\n",
       "      <td>True</td>\n",
       "      <td>False</td>\n",
       "      <td>13000.0</td>\n",
       "      <td>2018-04-01</td>\n",
       "    </tr>\n",
       "    <tr>\n",
       "      <th>939</th>\n",
       "      <td>520</td>\n",
       "      <td>153102.0</td>\n",
       "      <td>140.0</td>\n",
       "      <td>2015-04-01</td>\n",
       "      <td>NaN</td>\n",
       "      <td>estate</td>\n",
       "      <td>True</td>\n",
       "      <td>True</td>\n",
       "      <td>True</td>\n",
       "      <td>False</td>\n",
       "      <td>True</td>\n",
       "      <td>False</td>\n",
       "      <td>True</td>\n",
       "      <td>False</td>\n",
       "      <td>19800.0</td>\n",
       "      <td>2018-04-01</td>\n",
       "    </tr>\n",
       "    <tr>\n",
       "      <th>1569</th>\n",
       "      <td>318</td>\n",
       "      <td>191804.0</td>\n",
       "      <td>100.0</td>\n",
       "      <td>2013-10-01</td>\n",
       "      <td>NaN</td>\n",
       "      <td>estate</td>\n",
       "      <td>False</td>\n",
       "      <td>True</td>\n",
       "      <td>False</td>\n",
       "      <td>False</td>\n",
       "      <td>True</td>\n",
       "      <td>True</td>\n",
       "      <td>True</td>\n",
       "      <td>False</td>\n",
       "      <td>3800.0</td>\n",
       "      <td>2018-07-01</td>\n",
       "    </tr>\n",
       "    <tr>\n",
       "      <th>1591</th>\n",
       "      <td>320</td>\n",
       "      <td>130624.0</td>\n",
       "      <td>120.0</td>\n",
       "      <td>2013-07-01</td>\n",
       "      <td>NaN</td>\n",
       "      <td>estate</td>\n",
       "      <td>True</td>\n",
       "      <td>True</td>\n",
       "      <td>False</td>\n",
       "      <td>False</td>\n",
       "      <td>False</td>\n",
       "      <td>False</td>\n",
       "      <td>True</td>\n",
       "      <td>True</td>\n",
       "      <td>10700.0</td>\n",
       "      <td>2018-07-01</td>\n",
       "    </tr>\n",
       "    <tr>\n",
       "      <th>1612</th>\n",
       "      <td>330</td>\n",
       "      <td>23811.0</td>\n",
       "      <td>190.0</td>\n",
       "      <td>2015-12-01</td>\n",
       "      <td>NaN</td>\n",
       "      <td>estate</td>\n",
       "      <td>True</td>\n",
       "      <td>True</td>\n",
       "      <td>True</td>\n",
       "      <td>False</td>\n",
       "      <td>False</td>\n",
       "      <td>False</td>\n",
       "      <td>True</td>\n",
       "      <td>True</td>\n",
       "      <td>28900.0</td>\n",
       "      <td>2018-08-01</td>\n",
       "    </tr>\n",
       "    <tr>\n",
       "      <th>1618</th>\n",
       "      <td>318</td>\n",
       "      <td>205603.0</td>\n",
       "      <td>105.0</td>\n",
       "      <td>2013-02-01</td>\n",
       "      <td>NaN</td>\n",
       "      <td>estate</td>\n",
       "      <td>False</td>\n",
       "      <td>True</td>\n",
       "      <td>False</td>\n",
       "      <td>False</td>\n",
       "      <td>True</td>\n",
       "      <td>False</td>\n",
       "      <td>True</td>\n",
       "      <td>False</td>\n",
       "      <td>11200.0</td>\n",
       "      <td>2018-08-01</td>\n",
       "    </tr>\n",
       "    <tr>\n",
       "      <th>1638</th>\n",
       "      <td>320</td>\n",
       "      <td>187454.0</td>\n",
       "      <td>120.0</td>\n",
       "      <td>2013-01-01</td>\n",
       "      <td>NaN</td>\n",
       "      <td>estate</td>\n",
       "      <td>False</td>\n",
       "      <td>True</td>\n",
       "      <td>False</td>\n",
       "      <td>False</td>\n",
       "      <td>True</td>\n",
       "      <td>True</td>\n",
       "      <td>True</td>\n",
       "      <td>False</td>\n",
       "      <td>14500.0</td>\n",
       "      <td>2018-08-01</td>\n",
       "    </tr>\n",
       "  </tbody>\n",
       "</table>\n",
       "</div>"
      ],
      "text/plain": [
       "     modelo        km  potencia fecha_registro color tipo_coche  \\\n",
       "239     318  132731.0     100.0     2013-09-01   NaN     estate   \n",
       "834     318  148429.0     100.0     2013-06-01   NaN     estate   \n",
       "855     318  139736.0     100.0     2009-02-01   NaN     estate   \n",
       "864     318  157661.0     100.0     2013-06-01   NaN     estate   \n",
       "884     320  145981.0     122.0     2013-07-01   NaN     estate   \n",
       "904     320  126425.0     120.0     2013-07-01   NaN     estate   \n",
       "939     520  153102.0     140.0     2015-04-01   NaN     estate   \n",
       "1569    318  191804.0     100.0     2013-10-01   NaN     estate   \n",
       "1591    320  130624.0     120.0     2013-07-01   NaN     estate   \n",
       "1612    330   23811.0     190.0     2015-12-01   NaN     estate   \n",
       "1618    318  205603.0     105.0     2013-02-01   NaN     estate   \n",
       "1638    320  187454.0     120.0     2013-01-01   NaN     estate   \n",
       "\n",
       "     volante_regulable aire_acondicionado camara_trasera  \\\n",
       "239               True               True          False   \n",
       "834              False               True          False   \n",
       "855              False              False          False   \n",
       "864              False               True          False   \n",
       "884               True               True          False   \n",
       "904              False               True          False   \n",
       "939               True               True           True   \n",
       "1569             False               True          False   \n",
       "1591              True               True          False   \n",
       "1612              True               True           True   \n",
       "1618             False               True          False   \n",
       "1638             False               True          False   \n",
       "\n",
       "     asientos_traseros_plegables elevalunas_electrico bluetooth   gps  \\\n",
       "239                        False                False     False  True   \n",
       "834                        False                False      True  True   \n",
       "855                        False                False     False  True   \n",
       "864                        False                False     False  True   \n",
       "884                        False                 True      True  True   \n",
       "904                        False                False     False  True   \n",
       "939                        False                 True     False  True   \n",
       "1569                       False                 True      True  True   \n",
       "1591                       False                False     False  True   \n",
       "1612                       False                False     False  True   \n",
       "1618                       False                 True     False  True   \n",
       "1638                       False                 True      True  True   \n",
       "\n",
       "     alerta_lim_velocidad   precio fecha_venta  \n",
       "239                  True  12500.0  2018-01-01  \n",
       "834                 False  10500.0  2018-04-01  \n",
       "855                 False   5800.0  2018-04-01  \n",
       "864                 False   7700.0  2018-04-01  \n",
       "884                 False  15800.0  2018-04-01  \n",
       "904                 False  13000.0  2018-04-01  \n",
       "939                 False  19800.0  2018-04-01  \n",
       "1569                False   3800.0  2018-07-01  \n",
       "1591                 True  10700.0  2018-07-01  \n",
       "1612                 True  28900.0  2018-08-01  \n",
       "1618                False  11200.0  2018-08-01  \n",
       "1638                False  14500.0  2018-08-01  "
      ]
     },
     "execution_count": 228,
     "metadata": {},
     "output_type": "execute_result"
    }
   ],
   "source": [
    "df_bmw[df_bmw['color'].isnull()]"
   ]
  },
  {
   "cell_type": "code",
   "execution_count": 229,
   "id": "0e9d1391",
   "metadata": {},
   "outputs": [
    {
     "data": {
      "text/plain": [
       "black     1627\n",
       "grey      1166\n",
       "blue       702\n",
       "white      536\n",
       "brown      341\n",
       "silver     325\n",
       "red         51\n",
       "beige       41\n",
       "green       18\n",
       "orange       6\n",
       "Name: color, dtype: int64"
      ]
     },
     "execution_count": 229,
     "metadata": {},
     "output_type": "execute_result"
    }
   ],
   "source": [
    "df_bmw['color'].value_counts()"
   ]
  },
  {
   "cell_type": "code",
   "execution_count": 230,
   "id": "30832f79",
   "metadata": {},
   "outputs": [
    {
     "data": {
      "text/plain": [
       "<Axes: xlabel='color', ylabel='precio'>"
      ]
     },
     "execution_count": 230,
     "metadata": {},
     "output_type": "execute_result"
    },
    {
     "data": {
      "image/png": "[encoded data removed]",
      "text/plain": [
       "<Figure size 640x480 with 1 Axes>"
      ]
     },
     "metadata": {},
     "output_type": "display_data"
    }
   ],
   "source": [
    "sns.scatterplot(x=\"color\", y=\"precio\", data=df_bmw)"
   ]
  },
  {
   "cell_type": "code",
   "execution_count": 231,
   "id": "05f42826",
   "metadata": {},
   "outputs": [],
   "source": [
    "del(df_bmw['color'])"
   ]
  },
  {
   "cell_type": "code",
   "execution_count": 232,
   "id": "404bd0c6",
   "metadata": {},
   "outputs": [],
   "source": [
    "df_bmw1 = df_bmw.copy()"
   ]
  },
  {
   "cell_type": "code",
   "execution_count": 233,
   "id": "be439199",
   "metadata": {},
   "outputs": [],
   "source": [
    "df_bmw1.dropna(inplace = True)"
   ]
  },
  {
   "cell_type": "code",
   "execution_count": 234,
   "id": "fad2b665",
   "metadata": {},
   "outputs": [
    {
     "data": {
      "text/plain": [
       "modelo                         0\n",
       "km                             0\n",
       "potencia                       0\n",
       "fecha_registro                 0\n",
       "tipo_coche                     0\n",
       "volante_regulable              0\n",
       "aire_acondicionado             0\n",
       "camara_trasera                 0\n",
       "asientos_traseros_plegables    0\n",
       "elevalunas_electrico           0\n",
       "bluetooth                      0\n",
       "gps                            0\n",
       "alerta_lim_velocidad           0\n",
       "precio                         0\n",
       "fecha_venta                    0\n",
       "dtype: int64"
      ]
     },
     "execution_count": 234,
     "metadata": {},
     "output_type": "execute_result"
    }
   ],
   "source": [
    "df_bmw1.isnull().sum()"
   ]
  },
  {
   "cell_type": "markdown",
   "id": "2250de9b",
   "metadata": {},
   "source": [
    "### Registration date"
   ]
  },
  {
   "cell_type": "code",
   "execution_count": 235,
   "id": "7ce4d7ba",
   "metadata": {},
   "outputs": [],
   "source": [
    "df_bmw1['fecha_registro']=pd.to_datetime(df_bmw1['fecha_registro'])\n",
    "\n",
    "df_bmw1['anio_registro']=df_bmw1['fecha_registro'].apply(lambda x:datetime.strftime(x,'%Y'))\n",
    "df_bmw1['mes_registro'] = df_bmw1['fecha_registro'].apply(lambda x: datetime.strftime(x, '%m'))"
   ]
  },
  {
   "cell_type": "code",
   "execution_count": 236,
   "id": "6e4dba27",
   "metadata": {},
   "outputs": [
    {
     "data": {
      "text/plain": [
       "2013    1527\n",
       "2014    1270\n",
       "2012     817\n",
       "2015     310\n",
       "2011     214\n",
       "2010     103\n",
       "2008     102\n",
       "2009      85\n",
       "2016      82\n",
       "2006      67\n",
       "2007      58\n",
       "2005      52\n",
       "2004      26\n",
       "2001      17\n",
       "2003      16\n",
       "2017      11\n",
       "2002       8\n",
       "2000       8\n",
       "1999       3\n",
       "1998       2\n",
       "1996       1\n",
       "1995       1\n",
       "1990       1\n",
       "1997       1\n",
       "Name: anio_registro, dtype: int64"
      ]
     },
     "execution_count": 236,
     "metadata": {},
     "output_type": "execute_result"
    }
   ],
   "source": [
    "df_bmw1[\"anio_registro\"].value_counts()"
   ]
  },
  {
   "cell_type": "code",
   "execution_count": 237,
   "id": "618494fb",
   "metadata": {},
   "outputs": [
    {
     "data": {
      "text/plain": [
       "03    464\n",
       "01    452\n",
       "10    446\n",
       "07    445\n",
       "06    442\n",
       "05    435\n",
       "09    416\n",
       "04    406\n",
       "02    393\n",
       "11    343\n",
       "08    331\n",
       "12    209\n",
       "Name: mes_registro, dtype: int64"
      ]
     },
     "execution_count": 237,
     "metadata": {},
     "output_type": "execute_result"
    }
   ],
   "source": [
    "df_bmw1[\"mes_registro\"].value_counts()"
   ]
  },
  {
   "cell_type": "code",
   "execution_count": 238,
   "id": "9a32924c",
   "metadata": {},
   "outputs": [],
   "source": [
    "df_bmw1['fecha_venta']=pd.to_datetime(df_bmw1['fecha_venta'])\n",
    "\n",
    "df_bmw1['anio_venta']=df_bmw1['fecha_venta'].apply(lambda x:datetime.strftime(x,'%Y'))\n",
    "df_bmw1['mes_venta'] = df_bmw1['fecha_venta'].apply(lambda x: datetime.strftime(x, '%m'))"
   ]
  },
  {
   "cell_type": "code",
   "execution_count": 239,
   "id": "c0117d17",
   "metadata": {},
   "outputs": [
    {
     "data": {
      "text/plain": [
       "2018    4778\n",
       "2007       1\n",
       "2010       1\n",
       "2009       1\n",
       "2008       1\n",
       "Name: anio_venta, dtype: int64"
      ]
     },
     "execution_count": 239,
     "metadata": {},
     "output_type": "execute_result"
    }
   ],
   "source": [
    "df_bmw1[\"anio_venta\"].value_counts()"
   ]
  },
  {
   "cell_type": "code",
   "execution_count": 240,
   "id": "1cecdafb",
   "metadata": {},
   "outputs": [],
   "source": [
    "del(df_bmw1['anio_venta'])"
   ]
  },
  {
   "cell_type": "code",
   "execution_count": 241,
   "id": "0678e97a",
   "metadata": {},
   "outputs": [
    {
     "data": {
      "text/plain": [
       "05    804\n",
       "03    726\n",
       "04    688\n",
       "06    599\n",
       "07    532\n",
       "08    519\n",
       "02    490\n",
       "09    220\n",
       "01    204\n",
       "Name: mes_venta, dtype: int64"
      ]
     },
     "execution_count": 241,
     "metadata": {},
     "output_type": "execute_result"
    }
   ],
   "source": [
    "df_bmw1[\"mes_venta\"].value_counts()"
   ]
  },
  {
   "cell_type": "code",
   "execution_count": 242,
   "id": "59a1473f",
   "metadata": {},
   "outputs": [],
   "source": [
    "del(df_bmw1['fecha_registro'])\n",
    "del(df_bmw1['fecha_venta'])"
   ]
  },
  {
   "cell_type": "markdown",
   "id": "7b46a05a",
   "metadata": {},
   "source": [
    "### Booleans"
   ]
  },
  {
   "cell_type": "code",
   "execution_count": 243,
   "id": "f4366c4e",
   "metadata": {},
   "outputs": [],
   "source": [
    "variables_boolenas = [\"tipo_coche\", \"volante_regulable\", \"aire_acondicionado\", \"camara_trasera\", \"asientos_traseros_plegables\", \"elevacunas_electrico\", \"bluetooth\", \"gps\", \"alerta_lim_velocidad\"]"
   ]
  },
  {
   "cell_type": "code",
   "execution_count": 244,
   "id": "9bd73378",
   "metadata": {},
   "outputs": [],
   "source": [
    "for i in range(len(variables_boolenas)):\n",
    "    variables_boolenas[i] = bool(variables_boolenas[i])"
   ]
  },
  {
   "cell_type": "markdown",
   "id": "9a73280a",
   "metadata": {},
   "source": [
    "### Adjustable steering wheel"
   ]
  },
  {
   "cell_type": "code",
   "execution_count": 245,
   "id": "63d43d81",
   "metadata": {},
   "outputs": [
    {
     "data": {
      "text/plain": [
       "True     2638\n",
       "False    2144\n",
       "Name: volante_regulable, dtype: int64"
      ]
     },
     "execution_count": 245,
     "metadata": {},
     "output_type": "execute_result"
    }
   ],
   "source": [
    "df_bmw1[\"volante_regulable\"].value_counts() #It has a good distribution, we will leave it as it is relevant to the model."
   ]
  },
  {
   "cell_type": "code",
   "execution_count": 246,
   "id": "5b93825a",
   "metadata": {},
   "outputs": [
    {
     "data": {
      "text/plain": [
       "<Axes: xlabel='volante_regulable', ylabel='precio'>"
      ]
     },
     "execution_count": 246,
     "metadata": {},
     "output_type": "execute_result"
    },
    {
     "data": {
      "image/png": "[encoded data removed]",
      "text/plain": [
       "<Figure size 640x480 with 1 Axes>"
      ]
     },
     "metadata": {},
     "output_type": "display_data"
    }
   ],
   "source": [
    "sns.violinplot(x=\"volante_regulable\", y=\"precio\", data=df_bmw1) "
   ]
  },
  {
   "cell_type": "markdown",
   "id": "c09b0da5",
   "metadata": {},
   "source": [
    "### Air conditioning"
   ]
  },
  {
   "cell_type": "code",
   "execution_count": 247,
   "id": "04917496",
   "metadata": {},
   "outputs": [
    {
     "data": {
      "text/plain": [
       "True     3807\n",
       "False     975\n",
       "Name: aire_acondicionado, dtype: int64"
      ]
     },
     "execution_count": 247,
     "metadata": {},
     "output_type": "execute_result"
    }
   ],
   "source": [
    "df_bmw1[\"aire_acondicionado\"].value_counts() #It has 80-20 distribution, we will leave it as it is relevant for the model."
   ]
  },
  {
   "cell_type": "markdown",
   "id": "2ebd489b",
   "metadata": {},
   "source": [
    "### Back camera"
   ]
  },
  {
   "cell_type": "code",
   "execution_count": 248,
   "id": "2ffddd6f",
   "metadata": {},
   "outputs": [
    {
     "data": {
      "text/plain": [
       "False    3817\n",
       "True      965\n",
       "Name: camara_trasera, dtype: int64"
      ]
     },
     "execution_count": 248,
     "metadata": {},
     "output_type": "execute_result"
    }
   ],
   "source": [
    "df_bmw1[\"camara_trasera\"].value_counts() #It has 80-20 distribution, we will leave it as it is relevant for the model."
   ]
  },
  {
   "cell_type": "code",
   "execution_count": 249,
   "id": "b83e247f",
   "metadata": {},
   "outputs": [
    {
     "data": {
      "text/plain": [
       "<Axes: xlabel='camara_trasera', ylabel='precio'>"
      ]
     },
     "execution_count": 249,
     "metadata": {},
     "output_type": "execute_result"
    },
    {
     "data": {
      "image/png": "[encoded data removed]",
      "text/plain": [
       "<Figure size 640x480 with 1 Axes>"
      ]
     },
     "metadata": {},
     "output_type": "display_data"
    }
   ],
   "source": [
    "sns.violinplot(x=\"camara_trasera\", y=\"precio\", data=df_bmw1)"
   ]
  },
  {
   "cell_type": "markdown",
   "id": "40b01b81",
   "metadata": {},
   "source": [
    "### Rear folding seats"
   ]
  },
  {
   "cell_type": "code",
   "execution_count": 250,
   "id": "a9efc740",
   "metadata": {},
   "outputs": [
    {
     "data": {
      "text/plain": [
       "False    3824\n",
       "True      958\n",
       "Name: asientos_traseros_plegables, dtype: int64"
      ]
     },
     "execution_count": 250,
     "metadata": {},
     "output_type": "execute_result"
    }
   ],
   "source": [
    "df_bmw1[\"asientos_traseros_plegables\"].value_counts() #It has 80-20 distribution, we will leave it as it is relevant for the model."
   ]
  },
  {
   "cell_type": "code",
   "execution_count": 251,
   "id": "c4badfbf",
   "metadata": {},
   "outputs": [
    {
     "data": {
      "text/plain": [
       "<Axes: xlabel='asientos_traseros_plegables', ylabel='precio'>"
      ]
     },
     "execution_count": 251,
     "metadata": {},
     "output_type": "execute_result"
    },
    {
     "data": {
      "image/png": "[encoded data removed]",
      "text/plain": [
       "<Figure size 640x480 with 1 Axes>"
      ]
     },
     "metadata": {},
     "output_type": "display_data"
    }
   ],
   "source": [
    "sns.violinplot(x=\"asientos_traseros_plegables\", y=\"precio\", data=df_bmw1)"
   ]
  },
  {
   "cell_type": "markdown",
   "id": "84f78e7e",
   "metadata": {},
   "source": [
    "### Electric window lifter"
   ]
  },
  {
   "cell_type": "code",
   "execution_count": 252,
   "id": "c8815767",
   "metadata": {},
   "outputs": [
    {
     "data": {
      "text/plain": [
       "False    2575\n",
       "True     2207\n",
       "Name: elevalunas_electrico, dtype: int64"
      ]
     },
     "execution_count": 252,
     "metadata": {},
     "output_type": "execute_result"
    }
   ],
   "source": [
    "df_bmw1[\"elevalunas_electrico\"].value_counts() #It has a good distribution, we will leave it as it is relevant to the model."
   ]
  },
  {
   "cell_type": "code",
   "execution_count": 253,
   "id": "71eb4b47",
   "metadata": {},
   "outputs": [
    {
     "data": {
      "text/plain": [
       "<Axes: xlabel='elevalunas_electrico', ylabel='precio'>"
      ]
     },
     "execution_count": 253,
     "metadata": {},
     "output_type": "execute_result"
    },
    {
     "data": {
      "image/png": "[encoded data removed]",
      "text/plain": [
       "<Figure size 640x480 with 1 Axes>"
      ]
     },
     "metadata": {},
     "output_type": "display_data"
    }
   ],
   "source": [
    "sns.violinplot(x=\"elevalunas_electrico\", y=\"precio\", data=df_bmw1)"
   ]
  },
  {
   "cell_type": "markdown",
   "id": "8056f2e7",
   "metadata": {},
   "source": [
    "### Bluetooth"
   ]
  },
  {
   "cell_type": "code",
   "execution_count": 254,
   "id": "fade2946",
   "metadata": {},
   "outputs": [
    {
     "data": {
      "text/plain": [
       "False    3622\n",
       "True     1160\n",
       "Name: bluetooth, dtype: int64"
      ]
     },
     "execution_count": 254,
     "metadata": {},
     "output_type": "execute_result"
    }
   ],
   "source": [
    "df_bmw1[\"bluetooth\"].value_counts() #It has a good distribution, we will leave it as it is relevant to the model."
   ]
  },
  {
   "cell_type": "code",
   "execution_count": 255,
   "id": "45cab967",
   "metadata": {},
   "outputs": [
    {
     "data": {
      "text/plain": [
       "<Axes: xlabel='bluetooth', ylabel='precio'>"
      ]
     },
     "execution_count": 255,
     "metadata": {},
     "output_type": "execute_result"
    },
    {
     "data": {
      "image/png": "[encoded data removed]",
      "text/plain": [
       "<Figure size 640x480 with 1 Axes>"
      ]
     },
     "metadata": {},
     "output_type": "display_data"
    }
   ],
   "source": [
    "sns.violinplot(x=\"bluetooth\", y=\"precio\", data=df_bmw1)"
   ]
  },
  {
   "cell_type": "markdown",
   "id": "9e394711",
   "metadata": {},
   "source": [
    "### GPS"
   ]
  },
  {
   "cell_type": "code",
   "execution_count": 256,
   "id": "1859dc75",
   "metadata": {},
   "outputs": [
    {
     "data": {
      "text/plain": [
       "True     4462\n",
       "False     320\n",
       "Name: gps, dtype: int64"
      ]
     },
     "execution_count": 256,
     "metadata": {},
     "output_type": "execute_result"
    }
   ],
   "source": [
    "df_bmw1[\"gps\"].value_counts() #It has 90-10 distribution, we will leave it as it is relevant for the model."
   ]
  },
  {
   "cell_type": "code",
   "execution_count": 257,
   "id": "56b7253e",
   "metadata": {},
   "outputs": [
    {
     "data": {
      "text/plain": [
       "<Axes: xlabel='gps', ylabel='precio'>"
      ]
     },
     "execution_count": 257,
     "metadata": {},
     "output_type": "execute_result"
    },
    {
     "data": {
      "image/png": "[encoded data removed]",
      "text/plain": [
       "<Figure size 640x480 with 1 Axes>"
      ]
     },
     "metadata": {},
     "output_type": "display_data"
    }
   ],
   "source": [
    "sns.violinplot(x=\"gps\", y=\"precio\", data=df_bmw1)"
   ]
  },
  {
   "cell_type": "markdown",
   "id": "1cf93538",
   "metadata": {},
   "source": [
    "### Speed limit alert"
   ]
  },
  {
   "cell_type": "code",
   "execution_count": 258,
   "id": "89b93043",
   "metadata": {},
   "outputs": [
    {
     "data": {
      "text/plain": [
       "True     2588\n",
       "False    2194\n",
       "Name: alerta_lim_velocidad, dtype: int64"
      ]
     },
     "execution_count": 258,
     "metadata": {},
     "output_type": "execute_result"
    }
   ],
   "source": [
    "df_bmw1[\"alerta_lim_velocidad\"].value_counts() #It has a good distribution, we will leave it as it is relevant to the model. "
   ]
  },
  {
   "cell_type": "code",
   "execution_count": 259,
   "id": "a8d645c8",
   "metadata": {},
   "outputs": [
    {
     "data": {
      "text/plain": [
       "<Axes: xlabel='alerta_lim_velocidad', ylabel='precio'>"
      ]
     },
     "execution_count": 259,
     "metadata": {},
     "output_type": "execute_result"
    },
    {
     "data": {
      "image/png": "[encoded data removed]",
      "text/plain": [
       "<Figure size 640x480 with 1 Axes>"
      ]
     },
     "metadata": {},
     "output_type": "display_data"
    }
   ],
   "source": [
    "sns.violinplot(x=\"alerta_lim_velocidad\", y=\"precio\", data=df_bmw1)"
   ]
  },
  {
   "cell_type": "markdown",
   "id": "6afc6272",
   "metadata": {},
   "source": [
    "### KM"
   ]
  },
  {
   "cell_type": "code",
   "execution_count": 260,
   "id": "b2a108bb",
   "metadata": {},
   "outputs": [
    {
     "data": {
      "text/html": [
       "<div>\n",
       "<style scoped>\n",
       "    .dataframe tbody tr th:only-of-type {\n",
       "        vertical-align: middle;\n",
       "    }\n",
       "\n",
       "    .dataframe tbody tr th {\n",
       "        vertical-align: top;\n",
       "    }\n",
       "\n",
       "    .dataframe thead th {\n",
       "        text-align: right;\n",
       "    }\n",
       "</style>\n",
       "<table border=\"1\" class=\"dataframe\">\n",
       "  <thead>\n",
       "    <tr style=\"text-align: right;\">\n",
       "      <th></th>\n",
       "      <th>modelo</th>\n",
       "      <th>km</th>\n",
       "      <th>potencia</th>\n",
       "      <th>tipo_coche</th>\n",
       "      <th>volante_regulable</th>\n",
       "      <th>aire_acondicionado</th>\n",
       "      <th>camara_trasera</th>\n",
       "      <th>asientos_traseros_plegables</th>\n",
       "      <th>elevalunas_electrico</th>\n",
       "      <th>bluetooth</th>\n",
       "      <th>gps</th>\n",
       "      <th>alerta_lim_velocidad</th>\n",
       "      <th>precio</th>\n",
       "      <th>anio_registro</th>\n",
       "      <th>mes_registro</th>\n",
       "      <th>mes_venta</th>\n",
       "    </tr>\n",
       "  </thead>\n",
       "  <tbody>\n",
       "    <tr>\n",
       "      <th>0</th>\n",
       "      <td>118</td>\n",
       "      <td>140411.0</td>\n",
       "      <td>100.0</td>\n",
       "      <td>convertible</td>\n",
       "      <td>True</td>\n",
       "      <td>True</td>\n",
       "      <td>False</td>\n",
       "      <td>False</td>\n",
       "      <td>True</td>\n",
       "      <td>True</td>\n",
       "      <td>True</td>\n",
       "      <td>False</td>\n",
       "      <td>11300.0</td>\n",
       "      <td>2012</td>\n",
       "      <td>02</td>\n",
       "      <td>01</td>\n",
       "    </tr>\n",
       "    <tr>\n",
       "      <th>1</th>\n",
       "      <td>M4</td>\n",
       "      <td>13929.0</td>\n",
       "      <td>317.0</td>\n",
       "      <td>convertible</td>\n",
       "      <td>True</td>\n",
       "      <td>True</td>\n",
       "      <td>False</td>\n",
       "      <td>False</td>\n",
       "      <td>False</td>\n",
       "      <td>True</td>\n",
       "      <td>True</td>\n",
       "      <td>True</td>\n",
       "      <td>69700.0</td>\n",
       "      <td>2016</td>\n",
       "      <td>04</td>\n",
       "      <td>02</td>\n",
       "    </tr>\n",
       "    <tr>\n",
       "      <th>2</th>\n",
       "      <td>320</td>\n",
       "      <td>183297.0</td>\n",
       "      <td>120.0</td>\n",
       "      <td>convertible</td>\n",
       "      <td>False</td>\n",
       "      <td>False</td>\n",
       "      <td>False</td>\n",
       "      <td>False</td>\n",
       "      <td>True</td>\n",
       "      <td>False</td>\n",
       "      <td>True</td>\n",
       "      <td>False</td>\n",
       "      <td>10200.0</td>\n",
       "      <td>2012</td>\n",
       "      <td>04</td>\n",
       "      <td>02</td>\n",
       "    </tr>\n",
       "    <tr>\n",
       "      <th>3</th>\n",
       "      <td>420</td>\n",
       "      <td>128035.0</td>\n",
       "      <td>135.0</td>\n",
       "      <td>convertible</td>\n",
       "      <td>True</td>\n",
       "      <td>True</td>\n",
       "      <td>False</td>\n",
       "      <td>False</td>\n",
       "      <td>True</td>\n",
       "      <td>True</td>\n",
       "      <td>True</td>\n",
       "      <td>True</td>\n",
       "      <td>25100.0</td>\n",
       "      <td>2014</td>\n",
       "      <td>07</td>\n",
       "      <td>02</td>\n",
       "    </tr>\n",
       "    <tr>\n",
       "      <th>4</th>\n",
       "      <td>425</td>\n",
       "      <td>97097.0</td>\n",
       "      <td>160.0</td>\n",
       "      <td>convertible</td>\n",
       "      <td>True</td>\n",
       "      <td>True</td>\n",
       "      <td>False</td>\n",
       "      <td>False</td>\n",
       "      <td>False</td>\n",
       "      <td>True</td>\n",
       "      <td>True</td>\n",
       "      <td>True</td>\n",
       "      <td>33400.0</td>\n",
       "      <td>2014</td>\n",
       "      <td>12</td>\n",
       "      <td>04</td>\n",
       "    </tr>\n",
       "  </tbody>\n",
       "</table>\n",
       "</div>"
      ],
      "text/plain": [
       "  modelo        km  potencia   tipo_coche volante_regulable  \\\n",
       "0    118  140411.0     100.0  convertible              True   \n",
       "1     M4   13929.0     317.0  convertible              True   \n",
       "2    320  183297.0     120.0  convertible             False   \n",
       "3    420  128035.0     135.0  convertible              True   \n",
       "4    425   97097.0     160.0  convertible              True   \n",
       "\n",
       "  aire_acondicionado camara_trasera asientos_traseros_plegables  \\\n",
       "0               True          False                       False   \n",
       "1               True          False                       False   \n",
       "2              False          False                       False   \n",
       "3               True          False                       False   \n",
       "4               True          False                       False   \n",
       "\n",
       "  elevalunas_electrico bluetooth   gps alerta_lim_velocidad   precio  \\\n",
       "0                 True      True  True                False  11300.0   \n",
       "1                False      True  True                 True  69700.0   \n",
       "2                 True     False  True                False  10200.0   \n",
       "3                 True      True  True                 True  25100.0   \n",
       "4                False      True  True                 True  33400.0   \n",
       "\n",
       "  anio_registro mes_registro mes_venta  \n",
       "0          2012           02        01  \n",
       "1          2016           04        02  \n",
       "2          2012           04        02  \n",
       "3          2014           07        02  \n",
       "4          2014           12        04  "
      ]
     },
     "execution_count": 260,
     "metadata": {},
     "output_type": "execute_result"
    }
   ],
   "source": [
    "df_bmw1.head()"
   ]
  },
  {
   "cell_type": "code",
   "execution_count": 261,
   "id": "2ed15082",
   "metadata": {},
   "outputs": [
    {
     "data": {
      "text/plain": [
       "<Axes: xlabel='km', ylabel='precio'>"
      ]
     },
     "execution_count": 261,
     "metadata": {},
     "output_type": "execute_result"
    },
    {
     "data": {
      "image/png": "[encoded data removed]",
      "text/plain": [
       "<Figure size 640x480 with 1 Axes>"
      ]
     },
     "metadata": {},
     "output_type": "display_data"
    }
   ],
   "source": [
    "sns.scatterplot(x=\"km\", y=\"precio\", data=df_bmw1)\n",
    "\n",
    "#We will analyse the outliers"
   ]
  },
  {
   "cell_type": "code",
   "execution_count": 262,
   "id": "a81f6710",
   "metadata": {},
   "outputs": [
    {
     "data": {
      "text/html": [
       "<div>\n",
       "<style scoped>\n",
       "    .dataframe tbody tr th:only-of-type {\n",
       "        vertical-align: middle;\n",
       "    }\n",
       "\n",
       "    .dataframe tbody tr th {\n",
       "        vertical-align: top;\n",
       "    }\n",
       "\n",
       "    .dataframe thead th {\n",
       "        text-align: right;\n",
       "    }\n",
       "</style>\n",
       "<table border=\"1\" class=\"dataframe\">\n",
       "  <thead>\n",
       "    <tr style=\"text-align: right;\">\n",
       "      <th></th>\n",
       "      <th>modelo</th>\n",
       "      <th>km</th>\n",
       "      <th>potencia</th>\n",
       "      <th>tipo_coche</th>\n",
       "      <th>volante_regulable</th>\n",
       "      <th>aire_acondicionado</th>\n",
       "      <th>camara_trasera</th>\n",
       "      <th>asientos_traseros_plegables</th>\n",
       "      <th>elevalunas_electrico</th>\n",
       "      <th>bluetooth</th>\n",
       "      <th>gps</th>\n",
       "      <th>alerta_lim_velocidad</th>\n",
       "      <th>precio</th>\n",
       "      <th>anio_registro</th>\n",
       "      <th>mes_registro</th>\n",
       "      <th>mes_venta</th>\n",
       "    </tr>\n",
       "  </thead>\n",
       "  <tbody>\n",
       "    <tr>\n",
       "      <th>2938</th>\n",
       "      <td>640 Gran Coupé</td>\n",
       "      <td>-64.0</td>\n",
       "      <td>230.0</td>\n",
       "      <td>sedan</td>\n",
       "      <td>True</td>\n",
       "      <td>True</td>\n",
       "      <td>False</td>\n",
       "      <td>True</td>\n",
       "      <td>False</td>\n",
       "      <td>False</td>\n",
       "      <td>True</td>\n",
       "      <td>True</td>\n",
       "      <td>75000.0</td>\n",
       "      <td>2017</td>\n",
       "      <td>03</td>\n",
       "      <td>04</td>\n",
       "    </tr>\n",
       "  </tbody>\n",
       "</table>\n",
       "</div>"
      ],
      "text/plain": [
       "              modelo    km  potencia tipo_coche volante_regulable  \\\n",
       "2938  640 Gran Coupé -64.0     230.0      sedan              True   \n",
       "\n",
       "     aire_acondicionado camara_trasera asientos_traseros_plegables  \\\n",
       "2938               True          False                        True   \n",
       "\n",
       "     elevalunas_electrico bluetooth   gps alerta_lim_velocidad   precio  \\\n",
       "2938                False     False  True                 True  75000.0   \n",
       "\n",
       "     anio_registro mes_registro mes_venta  \n",
       "2938          2017           03        04  "
      ]
     },
     "execution_count": 262,
     "metadata": {},
     "output_type": "execute_result"
    }
   ],
   "source": [
    "df_bmw1[df_bmw1[\"km\"]<100] #We validate if there are too low values."
   ]
  },
  {
   "cell_type": "code",
   "execution_count": 263,
   "id": "16830b12",
   "metadata": {},
   "outputs": [],
   "source": [
    "df_bmw1.drop(df_bmw1[df_bmw1['km'] <0].index, inplace=True) #Eliminate negative km"
   ]
  },
  {
   "cell_type": "code",
   "execution_count": 264,
   "id": "6b988e7f",
   "metadata": {},
   "outputs": [
    {
     "data": {
      "text/html": [
       "<div>\n",
       "<style scoped>\n",
       "    .dataframe tbody tr th:only-of-type {\n",
       "        vertical-align: middle;\n",
       "    }\n",
       "\n",
       "    .dataframe tbody tr th {\n",
       "        vertical-align: top;\n",
       "    }\n",
       "\n",
       "    .dataframe thead th {\n",
       "        text-align: right;\n",
       "    }\n",
       "</style>\n",
       "<table border=\"1\" class=\"dataframe\">\n",
       "  <thead>\n",
       "    <tr style=\"text-align: right;\">\n",
       "      <th></th>\n",
       "      <th>modelo</th>\n",
       "      <th>km</th>\n",
       "      <th>potencia</th>\n",
       "      <th>tipo_coche</th>\n",
       "      <th>volante_regulable</th>\n",
       "      <th>aire_acondicionado</th>\n",
       "      <th>camara_trasera</th>\n",
       "      <th>asientos_traseros_plegables</th>\n",
       "      <th>elevalunas_electrico</th>\n",
       "      <th>bluetooth</th>\n",
       "      <th>gps</th>\n",
       "      <th>alerta_lim_velocidad</th>\n",
       "      <th>precio</th>\n",
       "      <th>anio_registro</th>\n",
       "      <th>mes_registro</th>\n",
       "      <th>mes_venta</th>\n",
       "    </tr>\n",
       "  </thead>\n",
       "  <tbody>\n",
       "    <tr>\n",
       "      <th>557</th>\n",
       "      <td>520</td>\n",
       "      <td>484615.0</td>\n",
       "      <td>120.0</td>\n",
       "      <td>estate</td>\n",
       "      <td>True</td>\n",
       "      <td>True</td>\n",
       "      <td>False</td>\n",
       "      <td>False</td>\n",
       "      <td>False</td>\n",
       "      <td>False</td>\n",
       "      <td>True</td>\n",
       "      <td>False</td>\n",
       "      <td>8300.0</td>\n",
       "      <td>2011</td>\n",
       "      <td>02</td>\n",
       "      <td>03</td>\n",
       "    </tr>\n",
       "    <tr>\n",
       "      <th>1573</th>\n",
       "      <td>320</td>\n",
       "      <td>400654.0</td>\n",
       "      <td>110.0</td>\n",
       "      <td>estate</td>\n",
       "      <td>False</td>\n",
       "      <td>False</td>\n",
       "      <td>True</td>\n",
       "      <td>False</td>\n",
       "      <td>False</td>\n",
       "      <td>False</td>\n",
       "      <td>True</td>\n",
       "      <td>False</td>\n",
       "      <td>1800.0</td>\n",
       "      <td>2006</td>\n",
       "      <td>12</td>\n",
       "      <td>07</td>\n",
       "    </tr>\n",
       "    <tr>\n",
       "      <th>2350</th>\n",
       "      <td>318</td>\n",
       "      <td>477571.0</td>\n",
       "      <td>85.0</td>\n",
       "      <td>hatchback</td>\n",
       "      <td>False</td>\n",
       "      <td>True</td>\n",
       "      <td>False</td>\n",
       "      <td>False</td>\n",
       "      <td>False</td>\n",
       "      <td>True</td>\n",
       "      <td>False</td>\n",
       "      <td>False</td>\n",
       "      <td>1200.0</td>\n",
       "      <td>2004</td>\n",
       "      <td>09</td>\n",
       "      <td>07</td>\n",
       "    </tr>\n",
       "    <tr>\n",
       "      <th>3198</th>\n",
       "      <td>320</td>\n",
       "      <td>405816.0</td>\n",
       "      <td>100.0</td>\n",
       "      <td>sedan</td>\n",
       "      <td>False</td>\n",
       "      <td>False</td>\n",
       "      <td>False</td>\n",
       "      <td>False</td>\n",
       "      <td>False</td>\n",
       "      <td>False</td>\n",
       "      <td>True</td>\n",
       "      <td>False</td>\n",
       "      <td>500.0</td>\n",
       "      <td>2000</td>\n",
       "      <td>02</td>\n",
       "      <td>05</td>\n",
       "    </tr>\n",
       "    <tr>\n",
       "      <th>3732</th>\n",
       "      <td>118</td>\n",
       "      <td>1000376.0</td>\n",
       "      <td>90.0</td>\n",
       "      <td>subcompact</td>\n",
       "      <td>True</td>\n",
       "      <td>False</td>\n",
       "      <td>False</td>\n",
       "      <td>False</td>\n",
       "      <td>False</td>\n",
       "      <td>False</td>\n",
       "      <td>True</td>\n",
       "      <td>False</td>\n",
       "      <td>1400.0</td>\n",
       "      <td>2005</td>\n",
       "      <td>03</td>\n",
       "      <td>06</td>\n",
       "    </tr>\n",
       "  </tbody>\n",
       "</table>\n",
       "</div>"
      ],
      "text/plain": [
       "     modelo         km  potencia  tipo_coche volante_regulable  \\\n",
       "557     520   484615.0     120.0      estate              True   \n",
       "1573    320   400654.0     110.0      estate             False   \n",
       "2350    318   477571.0      85.0   hatchback             False   \n",
       "3198    320   405816.0     100.0       sedan             False   \n",
       "3732    118  1000376.0      90.0  subcompact              True   \n",
       "\n",
       "     aire_acondicionado camara_trasera asientos_traseros_plegables  \\\n",
       "557                True          False                       False   \n",
       "1573              False           True                       False   \n",
       "2350               True          False                       False   \n",
       "3198              False          False                       False   \n",
       "3732              False          False                       False   \n",
       "\n",
       "     elevalunas_electrico bluetooth    gps alerta_lim_velocidad  precio  \\\n",
       "557                 False     False   True                False  8300.0   \n",
       "1573                False     False   True                False  1800.0   \n",
       "2350                False      True  False                False  1200.0   \n",
       "3198                False     False   True                False   500.0   \n",
       "3732                False     False   True                False  1400.0   \n",
       "\n",
       "     anio_registro mes_registro mes_venta  \n",
       "557           2011           02        03  \n",
       "1573          2006           12        07  \n",
       "2350          2004           09        07  \n",
       "3198          2000           02        05  \n",
       "3732          2005           03        06  "
      ]
     },
     "execution_count": 264,
     "metadata": {},
     "output_type": "execute_result"
    }
   ],
   "source": [
    "df_bmw1[df_bmw1[\"km\"]>400000] #We validate if there are too high values."
   ]
  },
  {
   "cell_type": "code",
   "execution_count": 265,
   "id": "2c204d34",
   "metadata": {},
   "outputs": [],
   "source": [
    "df_bmw1.drop(df_bmw1[df_bmw1['km'] >1000000].index, inplace=True) #Delete KM > 1M"
   ]
  },
  {
   "cell_type": "code",
   "execution_count": 266,
   "id": "13aebf11",
   "metadata": {},
   "outputs": [
    {
     "data": {
      "text/plain": [
       "<Axes: xlabel='km', ylabel='precio'>"
      ]
     },
     "execution_count": 266,
     "metadata": {},
     "output_type": "execute_result"
    },
    {
     "data": {
      "image/png": "[encoded data removed]",
      "text/plain": [
       "<Figure size 640x480 with 1 Axes>"
      ]
     },
     "metadata": {},
     "output_type": "display_data"
    }
   ],
   "source": [
    "sns.scatterplot(x=\"km\", y=\"precio\", data=df_bmw1) #It is related: the lower the kilometres, the higher the price."
   ]
  },
  {
   "cell_type": "markdown",
   "id": "700f6797",
   "metadata": {},
   "source": [
    "### Power"
   ]
  },
  {
   "cell_type": "code",
   "execution_count": 267,
   "id": "ca9296c3",
   "metadata": {},
   "outputs": [],
   "source": [
    "df_bmw2 = df_bmw1.copy() "
   ]
  },
  {
   "cell_type": "code",
   "execution_count": 268,
   "id": "2430bdb5",
   "metadata": {},
   "outputs": [
    {
     "data": {
      "text/plain": [
       "<Axes: xlabel='potencia', ylabel='precio'>"
      ]
     },
     "execution_count": 268,
     "metadata": {},
     "output_type": "execute_result"
    },
    {
     "data": {
      "image/png": "[encoded data removed]",
      "text/plain": [
       "<Figure size 640x480 with 1 Axes>"
      ]
     },
     "metadata": {},
     "output_type": "display_data"
    }
   ],
   "source": [
    "sns.scatterplot(x=\"potencia\", y=\"precio\", data=df_bmw2)\n",
    "\n",
    "#It's not so linear, but you can see the trend: the higher the price, the higher the power."
   ]
  },
  {
   "cell_type": "code",
   "execution_count": 269,
   "id": "4f2880cd",
   "metadata": {},
   "outputs": [
    {
     "data": {
      "text/html": [
       "<div>\n",
       "<style scoped>\n",
       "    .dataframe tbody tr th:only-of-type {\n",
       "        vertical-align: middle;\n",
       "    }\n",
       "\n",
       "    .dataframe tbody tr th {\n",
       "        vertical-align: top;\n",
       "    }\n",
       "\n",
       "    .dataframe thead th {\n",
       "        text-align: right;\n",
       "    }\n",
       "</style>\n",
       "<table border=\"1\" class=\"dataframe\">\n",
       "  <thead>\n",
       "    <tr style=\"text-align: right;\">\n",
       "      <th></th>\n",
       "      <th>modelo</th>\n",
       "      <th>km</th>\n",
       "      <th>potencia</th>\n",
       "      <th>tipo_coche</th>\n",
       "      <th>volante_regulable</th>\n",
       "      <th>aire_acondicionado</th>\n",
       "      <th>camara_trasera</th>\n",
       "      <th>asientos_traseros_plegables</th>\n",
       "      <th>elevalunas_electrico</th>\n",
       "      <th>bluetooth</th>\n",
       "      <th>gps</th>\n",
       "      <th>alerta_lim_velocidad</th>\n",
       "      <th>precio</th>\n",
       "      <th>anio_registro</th>\n",
       "      <th>mes_registro</th>\n",
       "      <th>mes_venta</th>\n",
       "    </tr>\n",
       "  </thead>\n",
       "  <tbody>\n",
       "    <tr>\n",
       "      <th>1796</th>\n",
       "      <td>i3</td>\n",
       "      <td>152328.0</td>\n",
       "      <td>25.0</td>\n",
       "      <td>hatchback</td>\n",
       "      <td>False</td>\n",
       "      <td>True</td>\n",
       "      <td>False</td>\n",
       "      <td>False</td>\n",
       "      <td>False</td>\n",
       "      <td>False</td>\n",
       "      <td>True</td>\n",
       "      <td>True</td>\n",
       "      <td>20300.0</td>\n",
       "      <td>2014</td>\n",
       "      <td>02</td>\n",
       "      <td>04</td>\n",
       "    </tr>\n",
       "    <tr>\n",
       "      <th>1925</th>\n",
       "      <td>i3</td>\n",
       "      <td>152470.0</td>\n",
       "      <td>25.0</td>\n",
       "      <td>hatchback</td>\n",
       "      <td>False</td>\n",
       "      <td>True</td>\n",
       "      <td>False</td>\n",
       "      <td>False</td>\n",
       "      <td>False</td>\n",
       "      <td>False</td>\n",
       "      <td>True</td>\n",
       "      <td>True</td>\n",
       "      <td>15500.0</td>\n",
       "      <td>2014</td>\n",
       "      <td>02</td>\n",
       "      <td>03</td>\n",
       "    </tr>\n",
       "    <tr>\n",
       "      <th>2390</th>\n",
       "      <td>318</td>\n",
       "      <td>170529.0</td>\n",
       "      <td>66.0</td>\n",
       "      <td>hatchback</td>\n",
       "      <td>False</td>\n",
       "      <td>False</td>\n",
       "      <td>True</td>\n",
       "      <td>False</td>\n",
       "      <td>False</td>\n",
       "      <td>False</td>\n",
       "      <td>False</td>\n",
       "      <td>False</td>\n",
       "      <td>1000.0</td>\n",
       "      <td>2000</td>\n",
       "      <td>05</td>\n",
       "      <td>08</td>\n",
       "    </tr>\n",
       "    <tr>\n",
       "      <th>2771</th>\n",
       "      <td>316</td>\n",
       "      <td>146951.0</td>\n",
       "      <td>66.0</td>\n",
       "      <td>sedan</td>\n",
       "      <td>False</td>\n",
       "      <td>False</td>\n",
       "      <td>False</td>\n",
       "      <td>False</td>\n",
       "      <td>False</td>\n",
       "      <td>False</td>\n",
       "      <td>False</td>\n",
       "      <td>False</td>\n",
       "      <td>1300.0</td>\n",
       "      <td>1990</td>\n",
       "      <td>03</td>\n",
       "      <td>04</td>\n",
       "    </tr>\n",
       "    <tr>\n",
       "      <th>3765</th>\n",
       "      <td>X1</td>\n",
       "      <td>81770.0</td>\n",
       "      <td>0.0</td>\n",
       "      <td>suv</td>\n",
       "      <td>False</td>\n",
       "      <td>False</td>\n",
       "      <td>False</td>\n",
       "      <td>False</td>\n",
       "      <td>False</td>\n",
       "      <td>False</td>\n",
       "      <td>False</td>\n",
       "      <td>False</td>\n",
       "      <td>11700.0</td>\n",
       "      <td>2014</td>\n",
       "      <td>10</td>\n",
       "      <td>03</td>\n",
       "    </tr>\n",
       "  </tbody>\n",
       "</table>\n",
       "</div>"
      ],
      "text/plain": [
       "     modelo        km  potencia tipo_coche volante_regulable  \\\n",
       "1796     i3  152328.0      25.0  hatchback             False   \n",
       "1925     i3  152470.0      25.0  hatchback             False   \n",
       "2390    318  170529.0      66.0  hatchback             False   \n",
       "2771    316  146951.0      66.0      sedan             False   \n",
       "3765     X1   81770.0       0.0        suv             False   \n",
       "\n",
       "     aire_acondicionado camara_trasera asientos_traseros_plegables  \\\n",
       "1796               True          False                       False   \n",
       "1925               True          False                       False   \n",
       "2390              False           True                       False   \n",
       "2771              False          False                       False   \n",
       "3765              False          False                       False   \n",
       "\n",
       "     elevalunas_electrico bluetooth    gps alerta_lim_velocidad   precio  \\\n",
       "1796                False     False   True                 True  20300.0   \n",
       "1925                False     False   True                 True  15500.0   \n",
       "2390                False     False  False                False   1000.0   \n",
       "2771                False     False  False                False   1300.0   \n",
       "3765                False     False  False                False  11700.0   \n",
       "\n",
       "     anio_registro mes_registro mes_venta  \n",
       "1796          2014           02        04  \n",
       "1925          2014           02        03  \n",
       "2390          2000           05        08  \n",
       "2771          1990           03        04  \n",
       "3765          2014           10        03  "
      ]
     },
     "execution_count": 269,
     "metadata": {},
     "output_type": "execute_result"
    }
   ],
   "source": [
    "df_bmw2[df_bmw2[\"potencia\"]<70] #We see that there are 5 rows with power less than a power of 70"
   ]
  },
  {
   "cell_type": "code",
   "execution_count": 270,
   "id": "c3d15307",
   "metadata": {},
   "outputs": [],
   "source": [
    "df_bmw2.drop(df_bmw2[df_bmw2[\"potencia\"] < 70].index, inplace=True)"
   ]
  },
  {
   "cell_type": "code",
   "execution_count": 271,
   "id": "fd7884b9",
   "metadata": {},
   "outputs": [
    {
     "data": {
      "text/plain": [
       "<Axes: xlabel='potencia', ylabel='precio'>"
      ]
     },
     "execution_count": 271,
     "metadata": {},
     "output_type": "execute_result"
    },
    {
     "data": {
      "image/png": "[encoded data removed]",
      "text/plain": [
       "<Figure size 640x480 with 1 Axes>"
      ]
     },
     "metadata": {},
     "output_type": "display_data"
    }
   ],
   "source": [
    "sns.scatterplot(x=\"potencia\", y=\"precio\", data=df_bmw2) "
   ]
  },
  {
   "cell_type": "code",
   "execution_count": 272,
   "id": "4dead9c4",
   "metadata": {},
   "outputs": [
    {
     "data": {
      "text/html": [
       "<div>\n",
       "<style scoped>\n",
       "    .dataframe tbody tr th:only-of-type {\n",
       "        vertical-align: middle;\n",
       "    }\n",
       "\n",
       "    .dataframe tbody tr th {\n",
       "        vertical-align: top;\n",
       "    }\n",
       "\n",
       "    .dataframe thead th {\n",
       "        text-align: right;\n",
       "    }\n",
       "</style>\n",
       "<table border=\"1\" class=\"dataframe\">\n",
       "  <thead>\n",
       "    <tr style=\"text-align: right;\">\n",
       "      <th></th>\n",
       "      <th>modelo</th>\n",
       "      <th>km</th>\n",
       "      <th>potencia</th>\n",
       "      <th>tipo_coche</th>\n",
       "      <th>volante_regulable</th>\n",
       "      <th>aire_acondicionado</th>\n",
       "      <th>camara_trasera</th>\n",
       "      <th>asientos_traseros_plegables</th>\n",
       "      <th>elevalunas_electrico</th>\n",
       "      <th>bluetooth</th>\n",
       "      <th>gps</th>\n",
       "      <th>alerta_lim_velocidad</th>\n",
       "      <th>precio</th>\n",
       "      <th>anio_registro</th>\n",
       "      <th>mes_registro</th>\n",
       "      <th>mes_venta</th>\n",
       "    </tr>\n",
       "  </thead>\n",
       "  <tbody>\n",
       "    <tr>\n",
       "      <th>3601</th>\n",
       "      <td>M5</td>\n",
       "      <td>150187.0</td>\n",
       "      <td>412.0</td>\n",
       "      <td>sedan</td>\n",
       "      <td>True</td>\n",
       "      <td>True</td>\n",
       "      <td>True</td>\n",
       "      <td>False</td>\n",
       "      <td>True</td>\n",
       "      <td>True</td>\n",
       "      <td>True</td>\n",
       "      <td>True</td>\n",
       "      <td>41600.0</td>\n",
       "      <td>2012</td>\n",
       "      <td>02</td>\n",
       "      <td>09</td>\n",
       "    </tr>\n",
       "    <tr>\n",
       "      <th>4146</th>\n",
       "      <td>X6 M</td>\n",
       "      <td>2970.0</td>\n",
       "      <td>423.0</td>\n",
       "      <td>suv</td>\n",
       "      <td>True</td>\n",
       "      <td>True</td>\n",
       "      <td>True</td>\n",
       "      <td>False</td>\n",
       "      <td>False</td>\n",
       "      <td>False</td>\n",
       "      <td>True</td>\n",
       "      <td>True</td>\n",
       "      <td>82400.0</td>\n",
       "      <td>2016</td>\n",
       "      <td>04</td>\n",
       "      <td>04</td>\n",
       "    </tr>\n",
       "  </tbody>\n",
       "</table>\n",
       "</div>"
      ],
      "text/plain": [
       "     modelo        km  potencia tipo_coche volante_regulable  \\\n",
       "3601     M5  150187.0     412.0      sedan              True   \n",
       "4146   X6 M    2970.0     423.0        suv              True   \n",
       "\n",
       "     aire_acondicionado camara_trasera asientos_traseros_plegables  \\\n",
       "3601               True           True                       False   \n",
       "4146               True           True                       False   \n",
       "\n",
       "     elevalunas_electrico bluetooth   gps alerta_lim_velocidad   precio  \\\n",
       "3601                 True      True  True                 True  41600.0   \n",
       "4146                False     False  True                 True  82400.0   \n",
       "\n",
       "     anio_registro mes_registro mes_venta  \n",
       "3601          2012           02        09  \n",
       "4146          2016           04        04  "
      ]
     },
     "execution_count": 272,
     "metadata": {},
     "output_type": "execute_result"
    }
   ],
   "source": [
    "df_bmw2[df_bmw2[\"potencia\"]>350] #We analyse possible outliers"
   ]
  },
  {
   "cell_type": "code",
   "execution_count": 273,
   "id": "f5bb17a6",
   "metadata": {},
   "outputs": [
    {
     "data": {
      "text/html": [
       "<div>\n",
       "<style scoped>\n",
       "    .dataframe tbody tr th:only-of-type {\n",
       "        vertical-align: middle;\n",
       "    }\n",
       "\n",
       "    .dataframe tbody tr th {\n",
       "        vertical-align: top;\n",
       "    }\n",
       "\n",
       "    .dataframe thead th {\n",
       "        text-align: right;\n",
       "    }\n",
       "</style>\n",
       "<table border=\"1\" class=\"dataframe\">\n",
       "  <thead>\n",
       "    <tr style=\"text-align: right;\">\n",
       "      <th></th>\n",
       "      <th>modelo</th>\n",
       "      <th>km</th>\n",
       "      <th>potencia</th>\n",
       "      <th>tipo_coche</th>\n",
       "      <th>volante_regulable</th>\n",
       "      <th>aire_acondicionado</th>\n",
       "      <th>camara_trasera</th>\n",
       "      <th>asientos_traseros_plegables</th>\n",
       "      <th>elevalunas_electrico</th>\n",
       "      <th>bluetooth</th>\n",
       "      <th>gps</th>\n",
       "      <th>alerta_lim_velocidad</th>\n",
       "      <th>precio</th>\n",
       "      <th>anio_registro</th>\n",
       "      <th>mes_registro</th>\n",
       "      <th>mes_venta</th>\n",
       "    </tr>\n",
       "  </thead>\n",
       "  <tbody>\n",
       "    <tr>\n",
       "      <th>3829</th>\n",
       "      <td>X6 M</td>\n",
       "      <td>39725.0</td>\n",
       "      <td>280.0</td>\n",
       "      <td>suv</td>\n",
       "      <td>False</td>\n",
       "      <td>True</td>\n",
       "      <td>False</td>\n",
       "      <td>True</td>\n",
       "      <td>True</td>\n",
       "      <td>True</td>\n",
       "      <td>True</td>\n",
       "      <td>False</td>\n",
       "      <td>64300.0</td>\n",
       "      <td>2016</td>\n",
       "      <td>05</td>\n",
       "      <td>01</td>\n",
       "    </tr>\n",
       "    <tr>\n",
       "      <th>3986</th>\n",
       "      <td>X6 M</td>\n",
       "      <td>115569.0</td>\n",
       "      <td>280.0</td>\n",
       "      <td>suv</td>\n",
       "      <td>True</td>\n",
       "      <td>True</td>\n",
       "      <td>False</td>\n",
       "      <td>True</td>\n",
       "      <td>False</td>\n",
       "      <td>True</td>\n",
       "      <td>True</td>\n",
       "      <td>True</td>\n",
       "      <td>34800.0</td>\n",
       "      <td>2013</td>\n",
       "      <td>06</td>\n",
       "      <td>06</td>\n",
       "    </tr>\n",
       "    <tr>\n",
       "      <th>4109</th>\n",
       "      <td>X6 M</td>\n",
       "      <td>67798.0</td>\n",
       "      <td>190.0</td>\n",
       "      <td>suv</td>\n",
       "      <td>True</td>\n",
       "      <td>True</td>\n",
       "      <td>True</td>\n",
       "      <td>True</td>\n",
       "      <td>False</td>\n",
       "      <td>True</td>\n",
       "      <td>True</td>\n",
       "      <td>True</td>\n",
       "      <td>57100.0</td>\n",
       "      <td>2015</td>\n",
       "      <td>02</td>\n",
       "      <td>03</td>\n",
       "    </tr>\n",
       "    <tr>\n",
       "      <th>4146</th>\n",
       "      <td>X6 M</td>\n",
       "      <td>2970.0</td>\n",
       "      <td>423.0</td>\n",
       "      <td>suv</td>\n",
       "      <td>True</td>\n",
       "      <td>True</td>\n",
       "      <td>True</td>\n",
       "      <td>False</td>\n",
       "      <td>False</td>\n",
       "      <td>False</td>\n",
       "      <td>True</td>\n",
       "      <td>True</td>\n",
       "      <td>82400.0</td>\n",
       "      <td>2016</td>\n",
       "      <td>04</td>\n",
       "      <td>04</td>\n",
       "    </tr>\n",
       "    <tr>\n",
       "      <th>4166</th>\n",
       "      <td>X6 M</td>\n",
       "      <td>53221.0</td>\n",
       "      <td>180.0</td>\n",
       "      <td>suv</td>\n",
       "      <td>True</td>\n",
       "      <td>True</td>\n",
       "      <td>True</td>\n",
       "      <td>True</td>\n",
       "      <td>False</td>\n",
       "      <td>True</td>\n",
       "      <td>True</td>\n",
       "      <td>True</td>\n",
       "      <td>42800.0</td>\n",
       "      <td>2014</td>\n",
       "      <td>04</td>\n",
       "      <td>04</td>\n",
       "    </tr>\n",
       "    <tr>\n",
       "      <th>4282</th>\n",
       "      <td>X6 M</td>\n",
       "      <td>90157.0</td>\n",
       "      <td>190.0</td>\n",
       "      <td>suv</td>\n",
       "      <td>True</td>\n",
       "      <td>True</td>\n",
       "      <td>True</td>\n",
       "      <td>True</td>\n",
       "      <td>True</td>\n",
       "      <td>True</td>\n",
       "      <td>True</td>\n",
       "      <td>True</td>\n",
       "      <td>48800.0</td>\n",
       "      <td>2015</td>\n",
       "      <td>05</td>\n",
       "      <td>05</td>\n",
       "    </tr>\n",
       "    <tr>\n",
       "      <th>4535</th>\n",
       "      <td>X6 M</td>\n",
       "      <td>94673.0</td>\n",
       "      <td>225.0</td>\n",
       "      <td>suv</td>\n",
       "      <td>True</td>\n",
       "      <td>True</td>\n",
       "      <td>True</td>\n",
       "      <td>True</td>\n",
       "      <td>False</td>\n",
       "      <td>False</td>\n",
       "      <td>True</td>\n",
       "      <td>True</td>\n",
       "      <td>39500.0</td>\n",
       "      <td>2013</td>\n",
       "      <td>10</td>\n",
       "      <td>07</td>\n",
       "    </tr>\n",
       "    <tr>\n",
       "      <th>4557</th>\n",
       "      <td>X6 M</td>\n",
       "      <td>124726.0</td>\n",
       "      <td>280.0</td>\n",
       "      <td>suv</td>\n",
       "      <td>True</td>\n",
       "      <td>True</td>\n",
       "      <td>True</td>\n",
       "      <td>True</td>\n",
       "      <td>True</td>\n",
       "      <td>True</td>\n",
       "      <td>True</td>\n",
       "      <td>True</td>\n",
       "      <td>38700.0</td>\n",
       "      <td>2013</td>\n",
       "      <td>07</td>\n",
       "      <td>07</td>\n",
       "    </tr>\n",
       "  </tbody>\n",
       "</table>\n",
       "</div>"
      ],
      "text/plain": [
       "     modelo        km  potencia tipo_coche volante_regulable  \\\n",
       "3829   X6 M   39725.0     280.0        suv             False   \n",
       "3986   X6 M  115569.0     280.0        suv              True   \n",
       "4109   X6 M   67798.0     190.0        suv              True   \n",
       "4146   X6 M    2970.0     423.0        suv              True   \n",
       "4166   X6 M   53221.0     180.0        suv              True   \n",
       "4282   X6 M   90157.0     190.0        suv              True   \n",
       "4535   X6 M   94673.0     225.0        suv              True   \n",
       "4557   X6 M  124726.0     280.0        suv              True   \n",
       "\n",
       "     aire_acondicionado camara_trasera asientos_traseros_plegables  \\\n",
       "3829               True          False                        True   \n",
       "3986               True          False                        True   \n",
       "4109               True           True                        True   \n",
       "4146               True           True                       False   \n",
       "4166               True           True                        True   \n",
       "4282               True           True                        True   \n",
       "4535               True           True                        True   \n",
       "4557               True           True                        True   \n",
       "\n",
       "     elevalunas_electrico bluetooth   gps alerta_lim_velocidad   precio  \\\n",
       "3829                 True      True  True                False  64300.0   \n",
       "3986                False      True  True                 True  34800.0   \n",
       "4109                False      True  True                 True  57100.0   \n",
       "4146                False     False  True                 True  82400.0   \n",
       "4166                False      True  True                 True  42800.0   \n",
       "4282                 True      True  True                 True  48800.0   \n",
       "4535                False     False  True                 True  39500.0   \n",
       "4557                 True      True  True                 True  38700.0   \n",
       "\n",
       "     anio_registro mes_registro mes_venta  \n",
       "3829          2016           05        01  \n",
       "3986          2013           06        06  \n",
       "4109          2015           02        03  \n",
       "4146          2016           04        04  \n",
       "4166          2014           04        04  \n",
       "4282          2015           05        05  \n",
       "4535          2013           10        07  \n",
       "4557          2013           07        07  "
      ]
     },
     "execution_count": 273,
     "metadata": {},
     "output_type": "execute_result"
    }
   ],
   "source": [
    "df_bmw2[df_bmw2[\"modelo\"] == \"X6 M\"] #We remove the row with power in 423 as it corresponds to an outlier when compared to the rest of the rows of the same car model."
   ]
  },
  {
   "cell_type": "code",
   "execution_count": 274,
   "id": "e92f11ba",
   "metadata": {},
   "outputs": [],
   "source": [
    "df_bmw2.drop(df_bmw2[df_bmw2[\"potencia\"] > 420].index, inplace=True)"
   ]
  },
  {
   "cell_type": "markdown",
   "id": "3e16217e",
   "metadata": {},
   "source": [
    "### Price (Target)"
   ]
  },
  {
   "cell_type": "code",
   "execution_count": 275,
   "id": "d59d5069",
   "metadata": {},
   "outputs": [],
   "source": [
    "df_bmw3 = df_bmw2.copy()"
   ]
  },
  {
   "cell_type": "code",
   "execution_count": 276,
   "id": "8346c397",
   "metadata": {},
   "outputs": [
    {
     "data": {
      "text/plain": [
       "<Axes: xlabel='precio'>"
      ]
     },
     "execution_count": 276,
     "metadata": {},
     "output_type": "execute_result"
    },
    {
     "data": {
      "image/png": "[encoded data removed]",
      "text/plain": [
       "<Figure size 640x480 with 1 Axes>"
      ]
     },
     "metadata": {},
     "output_type": "display_data"
    }
   ],
   "source": [
    "sns.boxplot(x=df_bmw3[\"precio\"]) \n",
    "\n",
    "#We see that there are outliers, we proceed to analyse them."
   ]
  },
  {
   "cell_type": "code",
   "execution_count": 277,
   "id": "1956e888",
   "metadata": {},
   "outputs": [
    {
     "data": {
      "text/plain": [
       "<Axes: >"
      ]
     },
     "execution_count": 277,
     "metadata": {},
     "output_type": "execute_result"
    },
    {
     "data": {
      "image/png": "[encoded data removed]",
      "text/plain": [
       "<Figure size 640x480 with 1 Axes>"
      ]
     },
     "metadata": {},
     "output_type": "display_data"
    }
   ],
   "source": [
    "df_bmw3[\"precio\"].hist() #We will standardise the TARGET"
   ]
  },
  {
   "cell_type": "code",
   "execution_count": 278,
   "id": "90f43c3e",
   "metadata": {},
   "outputs": [],
   "source": [
    "df_bmw3['precioLN'] = df_bmw3['precio'].apply(lambda x: np.log1p(x))\n",
    "TARGET_LN = 'precioLN'"
   ]
  },
  {
   "cell_type": "code",
   "execution_count": 279,
   "id": "cb883571",
   "metadata": {},
   "outputs": [
    {
     "data": {
      "text/plain": [
       "<Axes: >"
      ]
     },
     "execution_count": 279,
     "metadata": {},
     "output_type": "execute_result"
    },
    {
     "data": {
      "image/png": "[encoded data removed]",
      "text/plain": [
       "<Figure size 640x480 with 1 Axes>"
      ]
     },
     "metadata": {},
     "output_type": "display_data"
    }
   ],
   "source": [
    "df_bmw3[\"precioLN\"].hist()"
   ]
  },
  {
   "cell_type": "markdown",
   "id": "88673012",
   "metadata": {},
   "source": [
    "## Step 4: Transformations - OHE & Minmaxscaler"
   ]
  },
  {
   "cell_type": "code",
   "execution_count": 280,
   "id": "7cf593f9",
   "metadata": {},
   "outputs": [],
   "source": [
    "df_bmw4 = df_bmw3.copy()"
   ]
  },
  {
   "cell_type": "code",
   "execution_count": 281,
   "id": "b1e1d371",
   "metadata": {},
   "outputs": [
    {
     "name": "stdout",
     "output_type": "stream",
     "text": [
      "<class 'pandas.core.frame.DataFrame'>\n",
      "Int64Index: 4774 entries, 0 to 4841\n",
      "Data columns (total 17 columns):\n",
      " #   Column                       Non-Null Count  Dtype  \n",
      "---  ------                       --------------  -----  \n",
      " 0   modelo                       4774 non-null   object \n",
      " 1   km                           4774 non-null   float64\n",
      " 2   potencia                     4774 non-null   float64\n",
      " 3   tipo_coche                   4774 non-null   object \n",
      " 4   volante_regulable            4774 non-null   object \n",
      " 5   aire_acondicionado           4774 non-null   object \n",
      " 6   camara_trasera               4774 non-null   object \n",
      " 7   asientos_traseros_plegables  4774 non-null   object \n",
      " 8   elevalunas_electrico         4774 non-null   object \n",
      " 9   bluetooth                    4774 non-null   object \n",
      " 10  gps                          4774 non-null   bool   \n",
      " 11  alerta_lim_velocidad         4774 non-null   object \n",
      " 12  precio                       4774 non-null   float64\n",
      " 13  anio_registro                4774 non-null   object \n",
      " 14  mes_registro                 4774 non-null   object \n",
      " 15  mes_venta                    4774 non-null   object \n",
      " 16  precioLN                     4774 non-null   float64\n",
      "dtypes: bool(1), float64(4), object(12)\n",
      "memory usage: 638.7+ KB\n"
     ]
    }
   ],
   "source": [
    "df_bmw4.info()"
   ]
  },
  {
   "cell_type": "code",
   "execution_count": 282,
   "id": "83b0e0ed",
   "metadata": {},
   "outputs": [],
   "source": [
    "df_bmw4[\"potencia\"] = MinMaxScaler().fit_transform(df_bmw4[\"potencia\"].values.reshape(-1,1)) #We replace with a minmaxscaler the power column"
   ]
  },
  {
   "cell_type": "code",
   "execution_count": 283,
   "id": "fdd035d1",
   "metadata": {},
   "outputs": [],
   "source": [
    "df_bmw4[\"km\"] = MinMaxScaler().fit_transform(df_bmw4[\"km\"].values.reshape(-1,1)) #We replace with a minmaxscaler the column km"
   ]
  },
  {
   "cell_type": "code",
   "execution_count": 284,
   "id": "3d004aee",
   "metadata": {},
   "outputs": [],
   "source": [
    "# Create a list of Boolean columns\n",
    "variables_boolenas = [\"tipo_coche\", \"volante_regulable\", \"aire_acondicionado\", \"camara_trasera\", \"asientos_traseros_plegables\", \"elevalunas_electrico\", \"bluetooth\", \"gps\", \"alerta_lim_velocidad\", \"anio_registro\", \"mes_registro\", \"mes_venta\", \"modelo\"]\n",
    "\n",
    "# Iterate over each Boolean column\n",
    "for column in variables_boolenas:\n",
    "    # Apply One-Hot Encoding to the current column\n",
    "    encoded_columns = pd.get_dummies(df_bmw4[column], prefix=column)\n",
    "\n",
    "    # Concatenate the resulting DataFrame with the transformed column\n",
    "    df_bmw4 = pd.concat([df_bmw4, encoded_columns], axis=1)\n",
    "\n",
    "# Delete the original Boolean columns\n",
    "df_bmw4 = df_bmw4.drop(variables_boolenas, axis=1)"
   ]
  },
  {
   "cell_type": "code",
   "execution_count": 285,
   "id": "03716498",
   "metadata": {},
   "outputs": [
    {
     "data": {
      "text/html": [
       "<div>\n",
       "<style scoped>\n",
       "    .dataframe tbody tr th:only-of-type {\n",
       "        vertical-align: middle;\n",
       "    }\n",
       "\n",
       "    .dataframe tbody tr th {\n",
       "        vertical-align: top;\n",
       "    }\n",
       "\n",
       "    .dataframe thead th {\n",
       "        text-align: right;\n",
       "    }\n",
       "</style>\n",
       "<table border=\"1\" class=\"dataframe\">\n",
       "  <thead>\n",
       "    <tr style=\"text-align: right;\">\n",
       "      <th></th>\n",
       "      <th>km</th>\n",
       "      <th>potencia</th>\n",
       "      <th>precio</th>\n",
       "      <th>precioLN</th>\n",
       "      <th>tipo_coche_convertible</th>\n",
       "      <th>tipo_coche_coupe</th>\n",
       "      <th>tipo_coche_estate</th>\n",
       "      <th>tipo_coche_hatchback</th>\n",
       "      <th>tipo_coche_sedan</th>\n",
       "      <th>tipo_coche_subcompact</th>\n",
       "      <th>...</th>\n",
       "      <th>modelo_X1</th>\n",
       "      <th>modelo_X3</th>\n",
       "      <th>modelo_X4</th>\n",
       "      <th>modelo_X5</th>\n",
       "      <th>modelo_X5 M</th>\n",
       "      <th>modelo_X5 M50</th>\n",
       "      <th>modelo_X6</th>\n",
       "      <th>modelo_X6 M</th>\n",
       "      <th>modelo_Z4</th>\n",
       "      <th>modelo_i3</th>\n",
       "    </tr>\n",
       "  </thead>\n",
       "  <tbody>\n",
       "    <tr>\n",
       "      <th>0</th>\n",
       "      <td>0.289039</td>\n",
       "      <td>0.087719</td>\n",
       "      <td>11300.0</td>\n",
       "      <td>9.332646</td>\n",
       "      <td>1</td>\n",
       "      <td>0</td>\n",
       "      <td>0</td>\n",
       "      <td>0</td>\n",
       "      <td>0</td>\n",
       "      <td>0</td>\n",
       "      <td>...</td>\n",
       "      <td>0</td>\n",
       "      <td>0</td>\n",
       "      <td>0</td>\n",
       "      <td>0</td>\n",
       "      <td>0</td>\n",
       "      <td>0</td>\n",
       "      <td>0</td>\n",
       "      <td>0</td>\n",
       "      <td>0</td>\n",
       "      <td>0</td>\n",
       "    </tr>\n",
       "    <tr>\n",
       "      <th>1</th>\n",
       "      <td>0.027787</td>\n",
       "      <td>0.722222</td>\n",
       "      <td>69700.0</td>\n",
       "      <td>11.151970</td>\n",
       "      <td>1</td>\n",
       "      <td>0</td>\n",
       "      <td>0</td>\n",
       "      <td>0</td>\n",
       "      <td>0</td>\n",
       "      <td>0</td>\n",
       "      <td>...</td>\n",
       "      <td>0</td>\n",
       "      <td>0</td>\n",
       "      <td>0</td>\n",
       "      <td>0</td>\n",
       "      <td>0</td>\n",
       "      <td>0</td>\n",
       "      <td>0</td>\n",
       "      <td>0</td>\n",
       "      <td>0</td>\n",
       "      <td>0</td>\n",
       "    </tr>\n",
       "    <tr>\n",
       "      <th>2</th>\n",
       "      <td>0.377621</td>\n",
       "      <td>0.146199</td>\n",
       "      <td>10200.0</td>\n",
       "      <td>9.230241</td>\n",
       "      <td>1</td>\n",
       "      <td>0</td>\n",
       "      <td>0</td>\n",
       "      <td>0</td>\n",
       "      <td>0</td>\n",
       "      <td>0</td>\n",
       "      <td>...</td>\n",
       "      <td>0</td>\n",
       "      <td>0</td>\n",
       "      <td>0</td>\n",
       "      <td>0</td>\n",
       "      <td>0</td>\n",
       "      <td>0</td>\n",
       "      <td>0</td>\n",
       "      <td>0</td>\n",
       "      <td>0</td>\n",
       "      <td>0</td>\n",
       "    </tr>\n",
       "    <tr>\n",
       "      <th>3</th>\n",
       "      <td>0.263476</td>\n",
       "      <td>0.190058</td>\n",
       "      <td>25100.0</td>\n",
       "      <td>10.130663</td>\n",
       "      <td>1</td>\n",
       "      <td>0</td>\n",
       "      <td>0</td>\n",
       "      <td>0</td>\n",
       "      <td>0</td>\n",
       "      <td>0</td>\n",
       "      <td>...</td>\n",
       "      <td>0</td>\n",
       "      <td>0</td>\n",
       "      <td>0</td>\n",
       "      <td>0</td>\n",
       "      <td>0</td>\n",
       "      <td>0</td>\n",
       "      <td>0</td>\n",
       "      <td>0</td>\n",
       "      <td>0</td>\n",
       "      <td>0</td>\n",
       "    </tr>\n",
       "    <tr>\n",
       "      <th>4</th>\n",
       "      <td>0.199573</td>\n",
       "      <td>0.263158</td>\n",
       "      <td>33400.0</td>\n",
       "      <td>10.416341</td>\n",
       "      <td>1</td>\n",
       "      <td>0</td>\n",
       "      <td>0</td>\n",
       "      <td>0</td>\n",
       "      <td>0</td>\n",
       "      <td>0</td>\n",
       "      <td>...</td>\n",
       "      <td>0</td>\n",
       "      <td>0</td>\n",
       "      <td>0</td>\n",
       "      <td>0</td>\n",
       "      <td>0</td>\n",
       "      <td>0</td>\n",
       "      <td>0</td>\n",
       "      <td>0</td>\n",
       "      <td>0</td>\n",
       "      <td>0</td>\n",
       "    </tr>\n",
       "  </tbody>\n",
       "</table>\n",
       "<p>5 rows × 147 columns</p>\n",
       "</div>"
      ],
      "text/plain": [
       "         km  potencia   precio   precioLN  tipo_coche_convertible  \\\n",
       "0  0.289039  0.087719  11300.0   9.332646                       1   \n",
       "1  0.027787  0.722222  69700.0  11.151970                       1   \n",
       "2  0.377621  0.146199  10200.0   9.230241                       1   \n",
       "3  0.263476  0.190058  25100.0  10.130663                       1   \n",
       "4  0.199573  0.263158  33400.0  10.416341                       1   \n",
       "\n",
       "   tipo_coche_coupe  tipo_coche_estate  tipo_coche_hatchback  \\\n",
       "0                 0                  0                     0   \n",
       "1                 0                  0                     0   \n",
       "2                 0                  0                     0   \n",
       "3                 0                  0                     0   \n",
       "4                 0                  0                     0   \n",
       "\n",
       "   tipo_coche_sedan  tipo_coche_subcompact  ...  modelo_X1  modelo_X3  \\\n",
       "0                 0                      0  ...          0          0   \n",
       "1                 0                      0  ...          0          0   \n",
       "2                 0                      0  ...          0          0   \n",
       "3                 0                      0  ...          0          0   \n",
       "4                 0                      0  ...          0          0   \n",
       "\n",
       "   modelo_X4  modelo_X5  modelo_X5 M  modelo_X5 M50  modelo_X6  modelo_X6 M  \\\n",
       "0          0          0            0              0          0            0   \n",
       "1          0          0            0              0          0            0   \n",
       "2          0          0            0              0          0            0   \n",
       "3          0          0            0              0          0            0   \n",
       "4          0          0            0              0          0            0   \n",
       "\n",
       "   modelo_Z4  modelo_i3  \n",
       "0          0          0  \n",
       "1          0          0  \n",
       "2          0          0  \n",
       "3          0          0  \n",
       "4          0          0  \n",
       "\n",
       "[5 rows x 147 columns]"
      ]
     },
     "execution_count": 285,
     "metadata": {},
     "output_type": "execute_result"
    }
   ],
   "source": [
    "df_bmw4.head()"
   ]
  },
  {
   "cell_type": "markdown",
   "id": "95a2d541",
   "metadata": {},
   "source": [
    "## Step 5: Modeling"
   ]
  },
  {
   "cell_type": "code",
   "execution_count": 286,
   "id": "91be128a",
   "metadata": {},
   "outputs": [
    {
     "name": "stdout",
     "output_type": "stream",
     "text": [
      "Ejemplos usados para entrenar:  3319\n",
      "Ejemplos usados para validación:  1455\n"
     ]
    },
    {
     "name": "stderr",
     "output_type": "stream",
     "text": [
      "C:\\Users\\xavim\\AppData\\Local\\Temp\\ipykernel_25000\\4255033736.py:7: FutureWarning: In a future version of pandas all arguments of DataFrame.drop except for the argument 'labels' will be keyword-only.\n",
      "  df_bmw4 = df_bmw4.drop('is_train', 1)\n"
     ]
    }
   ],
   "source": [
    "#We decided to use randomisation to partition the model.\n",
    "\n",
    "p_dev = 0.70 #Percentage of train\n",
    "\n",
    "df_bmw4['is_train'] = np.random.uniform(0, 1, len(df_bmw4)) <= p_dev\n",
    "dev_df_bmw4, val_df_bmw4 = df_bmw4[df_bmw4['is_train']==True], df_bmw4[df_bmw4['is_train']==False]\n",
    "df_bmw4 = df_bmw4.drop('is_train', 1)\n",
    "\n",
    "print(\"Ejemplos usados para entrenar: \", len(dev_df_bmw4))\n",
    "print(\"Ejemplos usados para validación: \", len(val_df_bmw4))"
   ]
  },
  {
   "cell_type": "markdown",
   "id": "229b10a2",
   "metadata": {},
   "source": [
    "### Assignment of attributes and target to variables X and Y"
   ]
  },
  {
   "cell_type": "code",
   "execution_count": 287,
   "id": "194b2186",
   "metadata": {},
   "outputs": [],
   "source": [
    "dev_df_bmw4_X = dev_df_bmw4.drop('precio', axis=1)\n",
    "dev_df_bmw4_y = dev_df_bmw4[['precio']]"
   ]
  },
  {
   "cell_type": "code",
   "execution_count": 288,
   "id": "b9ce483d",
   "metadata": {},
   "outputs": [],
   "source": [
    "val_df_bmw4_X = val_df_bmw4.drop('precio', axis=1)\n",
    "val_ddf_bmw4_y = val_df_bmw4[['precio']]"
   ]
  },
  {
   "cell_type": "markdown",
   "id": "29a42ff9",
   "metadata": {},
   "source": [
    "### Random Hold Out"
   ]
  },
  {
   "cell_type": "code",
   "execution_count": 289,
   "id": "99b76e75",
   "metadata": {},
   "outputs": [],
   "source": [
    "X_train, X_test, y_train, y_test = model_selection.train_test_split(\n",
    "                                        dev_df_bmw4_X, # X\n",
    "                                        dev_df_bmw4_y, # y\n",
    "                                        test_size = 0.20, \n",
    "                                        random_state = 1279\n",
    "                                     )"
   ]
  },
  {
   "cell_type": "markdown",
   "id": "476f49b0",
   "metadata": {},
   "source": [
    "### Previous checks"
   ]
  },
  {
   "cell_type": "code",
   "execution_count": 290,
   "id": "03b1b78f",
   "metadata": {},
   "outputs": [
    {
     "data": {
      "text/html": [
       "<div>\n",
       "<style scoped>\n",
       "    .dataframe tbody tr th:only-of-type {\n",
       "        vertical-align: middle;\n",
       "    }\n",
       "\n",
       "    .dataframe tbody tr th {\n",
       "        vertical-align: top;\n",
       "    }\n",
       "\n",
       "    .dataframe thead th {\n",
       "        text-align: right;\n",
       "    }\n",
       "</style>\n",
       "<table border=\"1\" class=\"dataframe\">\n",
       "  <thead>\n",
       "    <tr style=\"text-align: right;\">\n",
       "      <th></th>\n",
       "      <th>1</th>\n",
       "      <th>3</th>\n",
       "      <th>5</th>\n",
       "      <th>6</th>\n",
       "      <th>7</th>\n",
       "    </tr>\n",
       "  </thead>\n",
       "  <tbody>\n",
       "    <tr>\n",
       "      <th>km</th>\n",
       "      <td>0.027787</td>\n",
       "      <td>0.263476</td>\n",
       "      <td>0.313703</td>\n",
       "      <td>0.422901</td>\n",
       "      <td>0.237709</td>\n",
       "    </tr>\n",
       "    <tr>\n",
       "      <th>potencia</th>\n",
       "      <td>0.722222</td>\n",
       "      <td>0.190058</td>\n",
       "      <td>0.453216</td>\n",
       "      <td>0.219298</td>\n",
       "      <td>0.102339</td>\n",
       "    </tr>\n",
       "    <tr>\n",
       "      <th>precioLN</th>\n",
       "      <td>11.15197</td>\n",
       "      <td>10.130663</td>\n",
       "      <td>9.746892</td>\n",
       "      <td>9.425532</td>\n",
       "      <td>8.716208</td>\n",
       "    </tr>\n",
       "    <tr>\n",
       "      <th>tipo_coche_convertible</th>\n",
       "      <td>1</td>\n",
       "      <td>1</td>\n",
       "      <td>1</td>\n",
       "      <td>1</td>\n",
       "      <td>1</td>\n",
       "    </tr>\n",
       "    <tr>\n",
       "      <th>tipo_coche_coupe</th>\n",
       "      <td>0</td>\n",
       "      <td>0</td>\n",
       "      <td>0</td>\n",
       "      <td>0</td>\n",
       "      <td>0</td>\n",
       "    </tr>\n",
       "    <tr>\n",
       "      <th>...</th>\n",
       "      <td>...</td>\n",
       "      <td>...</td>\n",
       "      <td>...</td>\n",
       "      <td>...</td>\n",
       "      <td>...</td>\n",
       "    </tr>\n",
       "    <tr>\n",
       "      <th>modelo_X6</th>\n",
       "      <td>0</td>\n",
       "      <td>0</td>\n",
       "      <td>0</td>\n",
       "      <td>0</td>\n",
       "      <td>0</td>\n",
       "    </tr>\n",
       "    <tr>\n",
       "      <th>modelo_X6 M</th>\n",
       "      <td>0</td>\n",
       "      <td>0</td>\n",
       "      <td>0</td>\n",
       "      <td>0</td>\n",
       "      <td>0</td>\n",
       "    </tr>\n",
       "    <tr>\n",
       "      <th>modelo_Z4</th>\n",
       "      <td>0</td>\n",
       "      <td>0</td>\n",
       "      <td>0</td>\n",
       "      <td>0</td>\n",
       "      <td>0</td>\n",
       "    </tr>\n",
       "    <tr>\n",
       "      <th>modelo_i3</th>\n",
       "      <td>0</td>\n",
       "      <td>0</td>\n",
       "      <td>0</td>\n",
       "      <td>0</td>\n",
       "      <td>0</td>\n",
       "    </tr>\n",
       "    <tr>\n",
       "      <th>is_train</th>\n",
       "      <td>True</td>\n",
       "      <td>True</td>\n",
       "      <td>True</td>\n",
       "      <td>True</td>\n",
       "      <td>True</td>\n",
       "    </tr>\n",
       "  </tbody>\n",
       "</table>\n",
       "<p>147 rows × 5 columns</p>\n",
       "</div>"
      ],
      "text/plain": [
       "                               1          3         5         6         7\n",
       "km                      0.027787   0.263476  0.313703  0.422901  0.237709\n",
       "potencia                0.722222   0.190058  0.453216  0.219298  0.102339\n",
       "precioLN                11.15197  10.130663  9.746892  9.425532  8.716208\n",
       "tipo_coche_convertible         1          1         1         1         1\n",
       "tipo_coche_coupe               0          0         0         0         0\n",
       "...                          ...        ...       ...       ...       ...\n",
       "modelo_X6                      0          0         0         0         0\n",
       "modelo_X6 M                    0          0         0         0         0\n",
       "modelo_Z4                      0          0         0         0         0\n",
       "modelo_i3                      0          0         0         0         0\n",
       "is_train                    True       True      True      True      True\n",
       "\n",
       "[147 rows x 5 columns]"
      ]
     },
     "execution_count": 290,
     "metadata": {},
     "output_type": "execute_result"
    }
   ],
   "source": [
    "dev_df_bmw4_X.head().T"
   ]
  },
  {
   "cell_type": "code",
   "execution_count": 291,
   "id": "5e2b81ff",
   "metadata": {},
   "outputs": [
    {
     "name": "stdout",
     "output_type": "stream",
     "text": [
      "<class 'pandas.core.frame.DataFrame'>\n",
      "Int64Index: 2655 entries, 1288 to 1457\n",
      "Columns: 147 entries, km to is_train\n",
      "dtypes: bool(1), float64(3), uint8(143)\n",
      "memory usage: 456.3 KB\n"
     ]
    }
   ],
   "source": [
    "X_train.info(verbose=False)"
   ]
  },
  {
   "cell_type": "code",
   "execution_count": 292,
   "id": "985215d6",
   "metadata": {},
   "outputs": [
    {
     "name": "stdout",
     "output_type": "stream",
     "text": [
      "<class 'pandas.core.frame.DataFrame'>\n",
      "Int64Index: 664 entries, 2816 to 1549\n",
      "Columns: 147 entries, km to is_train\n",
      "dtypes: bool(1), float64(3), uint8(143)\n",
      "memory usage: 114.1 KB\n"
     ]
    }
   ],
   "source": [
    "X_test.info(verbose=False)"
   ]
  },
  {
   "cell_type": "code",
   "execution_count": 293,
   "id": "19422a75",
   "metadata": {},
   "outputs": [
    {
     "data": {
      "text/html": [
       "<div>\n",
       "<style scoped>\n",
       "    .dataframe tbody tr th:only-of-type {\n",
       "        vertical-align: middle;\n",
       "    }\n",
       "\n",
       "    .dataframe tbody tr th {\n",
       "        vertical-align: top;\n",
       "    }\n",
       "\n",
       "    .dataframe thead th {\n",
       "        text-align: right;\n",
       "    }\n",
       "</style>\n",
       "<table border=\"1\" class=\"dataframe\">\n",
       "  <thead>\n",
       "    <tr style=\"text-align: right;\">\n",
       "      <th></th>\n",
       "      <th>count</th>\n",
       "      <th>mean</th>\n",
       "      <th>std</th>\n",
       "      <th>min</th>\n",
       "      <th>25%</th>\n",
       "      <th>50%</th>\n",
       "      <th>75%</th>\n",
       "      <th>max</th>\n",
       "    </tr>\n",
       "  </thead>\n",
       "  <tbody>\n",
       "    <tr>\n",
       "      <th>km</th>\n",
       "      <td>2655.0</td>\n",
       "      <td>0.289496</td>\n",
       "      <td>0.119393</td>\n",
       "      <td>0.000000</td>\n",
       "      <td>0.212478</td>\n",
       "      <td>0.288363</td>\n",
       "      <td>0.360986</td>\n",
       "      <td>0.813112</td>\n",
       "    </tr>\n",
       "    <tr>\n",
       "      <th>potencia</th>\n",
       "      <td>2655.0</td>\n",
       "      <td>0.172039</td>\n",
       "      <td>0.111688</td>\n",
       "      <td>0.000000</td>\n",
       "      <td>0.087719</td>\n",
       "      <td>0.146199</td>\n",
       "      <td>0.190058</td>\n",
       "      <td>0.722222</td>\n",
       "    </tr>\n",
       "    <tr>\n",
       "      <th>precioLN</th>\n",
       "      <td>2655.0</td>\n",
       "      <td>9.516499</td>\n",
       "      <td>0.592967</td>\n",
       "      <td>6.398595</td>\n",
       "      <td>9.287394</td>\n",
       "      <td>9.561068</td>\n",
       "      <td>9.830971</td>\n",
       "      <td>11.151970</td>\n",
       "    </tr>\n",
       "    <tr>\n",
       "      <th>tipo_coche_convertible</th>\n",
       "      <td>2655.0</td>\n",
       "      <td>0.011299</td>\n",
       "      <td>0.105716</td>\n",
       "      <td>0.000000</td>\n",
       "      <td>0.000000</td>\n",
       "      <td>0.000000</td>\n",
       "      <td>0.000000</td>\n",
       "      <td>1.000000</td>\n",
       "    </tr>\n",
       "    <tr>\n",
       "      <th>tipo_coche_coupe</th>\n",
       "      <td>2655.0</td>\n",
       "      <td>0.018832</td>\n",
       "      <td>0.135958</td>\n",
       "      <td>0.000000</td>\n",
       "      <td>0.000000</td>\n",
       "      <td>0.000000</td>\n",
       "      <td>0.000000</td>\n",
       "      <td>1.000000</td>\n",
       "    </tr>\n",
       "  </tbody>\n",
       "</table>\n",
       "</div>"
      ],
      "text/plain": [
       "                         count      mean       std       min       25%  \\\n",
       "km                      2655.0  0.289496  0.119393  0.000000  0.212478   \n",
       "potencia                2655.0  0.172039  0.111688  0.000000  0.087719   \n",
       "precioLN                2655.0  9.516499  0.592967  6.398595  9.287394   \n",
       "tipo_coche_convertible  2655.0  0.011299  0.105716  0.000000  0.000000   \n",
       "tipo_coche_coupe        2655.0  0.018832  0.135958  0.000000  0.000000   \n",
       "\n",
       "                             50%       75%        max  \n",
       "km                      0.288363  0.360986   0.813112  \n",
       "potencia                0.146199  0.190058   0.722222  \n",
       "precioLN                9.561068  9.830971  11.151970  \n",
       "tipo_coche_convertible  0.000000  0.000000   1.000000  \n",
       "tipo_coche_coupe        0.000000  0.000000   1.000000  "
      ]
     },
     "execution_count": 293,
     "metadata": {},
     "output_type": "execute_result"
    }
   ],
   "source": [
    "X_train.describe().T.head()"
   ]
  },
  {
   "cell_type": "code",
   "execution_count": 294,
   "id": "0a390ffe",
   "metadata": {},
   "outputs": [
    {
     "data": {
      "text/html": [
       "<div>\n",
       "<style scoped>\n",
       "    .dataframe tbody tr th:only-of-type {\n",
       "        vertical-align: middle;\n",
       "    }\n",
       "\n",
       "    .dataframe tbody tr th {\n",
       "        vertical-align: top;\n",
       "    }\n",
       "\n",
       "    .dataframe thead th {\n",
       "        text-align: right;\n",
       "    }\n",
       "</style>\n",
       "<table border=\"1\" class=\"dataframe\">\n",
       "  <thead>\n",
       "    <tr style=\"text-align: right;\">\n",
       "      <th></th>\n",
       "      <th>count</th>\n",
       "      <th>mean</th>\n",
       "      <th>std</th>\n",
       "      <th>min</th>\n",
       "      <th>25%</th>\n",
       "      <th>50%</th>\n",
       "      <th>75%</th>\n",
       "      <th>max</th>\n",
       "    </tr>\n",
       "  </thead>\n",
       "  <tbody>\n",
       "    <tr>\n",
       "      <th>km</th>\n",
       "      <td>664.0</td>\n",
       "      <td>0.283309</td>\n",
       "      <td>0.126579</td>\n",
       "      <td>0.005507</td>\n",
       "      <td>0.205153</td>\n",
       "      <td>0.282573</td>\n",
       "      <td>0.352282</td>\n",
       "      <td>1.000000</td>\n",
       "    </tr>\n",
       "    <tr>\n",
       "      <th>potencia</th>\n",
       "      <td>664.0</td>\n",
       "      <td>0.172092</td>\n",
       "      <td>0.117895</td>\n",
       "      <td>0.000000</td>\n",
       "      <td>0.087719</td>\n",
       "      <td>0.146199</td>\n",
       "      <td>0.190058</td>\n",
       "      <td>0.722222</td>\n",
       "    </tr>\n",
       "    <tr>\n",
       "      <th>precioLN</th>\n",
       "      <td>664.0</td>\n",
       "      <td>9.519492</td>\n",
       "      <td>0.593931</td>\n",
       "      <td>6.216606</td>\n",
       "      <td>9.287394</td>\n",
       "      <td>9.561068</td>\n",
       "      <td>9.846970</td>\n",
       "      <td>11.199597</td>\n",
       "    </tr>\n",
       "    <tr>\n",
       "      <th>tipo_coche_convertible</th>\n",
       "      <td>664.0</td>\n",
       "      <td>0.009036</td>\n",
       "      <td>0.094700</td>\n",
       "      <td>0.000000</td>\n",
       "      <td>0.000000</td>\n",
       "      <td>0.000000</td>\n",
       "      <td>0.000000</td>\n",
       "      <td>1.000000</td>\n",
       "    </tr>\n",
       "    <tr>\n",
       "      <th>tipo_coche_coupe</th>\n",
       "      <td>664.0</td>\n",
       "      <td>0.027108</td>\n",
       "      <td>0.162522</td>\n",
       "      <td>0.000000</td>\n",
       "      <td>0.000000</td>\n",
       "      <td>0.000000</td>\n",
       "      <td>0.000000</td>\n",
       "      <td>1.000000</td>\n",
       "    </tr>\n",
       "  </tbody>\n",
       "</table>\n",
       "</div>"
      ],
      "text/plain": [
       "                        count      mean       std       min       25%  \\\n",
       "km                      664.0  0.283309  0.126579  0.005507  0.205153   \n",
       "potencia                664.0  0.172092  0.117895  0.000000  0.087719   \n",
       "precioLN                664.0  9.519492  0.593931  6.216606  9.287394   \n",
       "tipo_coche_convertible  664.0  0.009036  0.094700  0.000000  0.000000   \n",
       "tipo_coche_coupe        664.0  0.027108  0.162522  0.000000  0.000000   \n",
       "\n",
       "                             50%       75%        max  \n",
       "km                      0.282573  0.352282   1.000000  \n",
       "potencia                0.146199  0.190058   0.722222  \n",
       "precioLN                9.561068  9.846970  11.199597  \n",
       "tipo_coche_convertible  0.000000  0.000000   1.000000  \n",
       "tipo_coche_coupe        0.000000  0.000000   1.000000  "
      ]
     },
     "execution_count": 294,
     "metadata": {},
     "output_type": "execute_result"
    }
   ],
   "source": [
    "X_test.describe().T.head()"
   ]
  },
  {
   "cell_type": "code",
   "execution_count": 295,
   "id": "3f424a9e",
   "metadata": {},
   "outputs": [
    {
     "data": {
      "text/html": [
       "<div>\n",
       "<style scoped>\n",
       "    .dataframe tbody tr th:only-of-type {\n",
       "        vertical-align: middle;\n",
       "    }\n",
       "\n",
       "    .dataframe tbody tr th {\n",
       "        vertical-align: top;\n",
       "    }\n",
       "\n",
       "    .dataframe thead th {\n",
       "        text-align: right;\n",
       "    }\n",
       "</style>\n",
       "<table border=\"1\" class=\"dataframe\">\n",
       "  <thead>\n",
       "    <tr style=\"text-align: right;\">\n",
       "      <th></th>\n",
       "      <th>count</th>\n",
       "      <th>mean</th>\n",
       "      <th>std</th>\n",
       "      <th>min</th>\n",
       "      <th>25%</th>\n",
       "      <th>50%</th>\n",
       "      <th>75%</th>\n",
       "      <th>max</th>\n",
       "    </tr>\n",
       "  </thead>\n",
       "  <tbody>\n",
       "    <tr>\n",
       "      <th>precio</th>\n",
       "      <td>2655.0</td>\n",
       "      <td>15715.141243</td>\n",
       "      <td>8478.344934</td>\n",
       "      <td>600.0</td>\n",
       "      <td>10800.0</td>\n",
       "      <td>14200.0</td>\n",
       "      <td>18600.0</td>\n",
       "      <td>69700.0</td>\n",
       "    </tr>\n",
       "  </tbody>\n",
       "</table>\n",
       "</div>"
      ],
      "text/plain": [
       "         count          mean          std    min      25%      50%      75%  \\\n",
       "precio  2655.0  15715.141243  8478.344934  600.0  10800.0  14200.0  18600.0   \n",
       "\n",
       "            max  \n",
       "precio  69700.0  "
      ]
     },
     "execution_count": 295,
     "metadata": {},
     "output_type": "execute_result"
    }
   ],
   "source": [
    "y_train.describe().T.head()"
   ]
  },
  {
   "cell_type": "code",
   "execution_count": 296,
   "id": "a31db219",
   "metadata": {},
   "outputs": [
    {
     "data": {
      "text/html": [
       "<div>\n",
       "<style scoped>\n",
       "    .dataframe tbody tr th:only-of-type {\n",
       "        vertical-align: middle;\n",
       "    }\n",
       "\n",
       "    .dataframe tbody tr th {\n",
       "        vertical-align: top;\n",
       "    }\n",
       "\n",
       "    .dataframe thead th {\n",
       "        text-align: right;\n",
       "    }\n",
       "</style>\n",
       "<table border=\"1\" class=\"dataframe\">\n",
       "  <thead>\n",
       "    <tr style=\"text-align: right;\">\n",
       "      <th></th>\n",
       "      <th>count</th>\n",
       "      <th>mean</th>\n",
       "      <th>std</th>\n",
       "      <th>min</th>\n",
       "      <th>25%</th>\n",
       "      <th>50%</th>\n",
       "      <th>75%</th>\n",
       "      <th>max</th>\n",
       "    </tr>\n",
       "  </thead>\n",
       "  <tbody>\n",
       "    <tr>\n",
       "      <th>precio</th>\n",
       "      <td>664.0</td>\n",
       "      <td>15800.753012</td>\n",
       "      <td>8703.269061</td>\n",
       "      <td>500.0</td>\n",
       "      <td>10800.0</td>\n",
       "      <td>14200.0</td>\n",
       "      <td>18900.0</td>\n",
       "      <td>73100.0</td>\n",
       "    </tr>\n",
       "  </tbody>\n",
       "</table>\n",
       "</div>"
      ],
      "text/plain": [
       "        count          mean          std    min      25%      50%      75%  \\\n",
       "precio  664.0  15800.753012  8703.269061  500.0  10800.0  14200.0  18900.0   \n",
       "\n",
       "            max  \n",
       "precio  73100.0  "
      ]
     },
     "execution_count": 296,
     "metadata": {},
     "output_type": "execute_result"
    }
   ],
   "source": [
    "y_test.describe().T.head()"
   ]
  },
  {
   "cell_type": "markdown",
   "id": "861210dc",
   "metadata": {},
   "source": [
    "## Step 6: Model Definition - RandomFOrestRegression"
   ]
  },
  {
   "cell_type": "markdown",
   "id": "880da9c3",
   "metadata": {},
   "source": [
    "### Importamos librerias"
   ]
  },
  {
   "cell_type": "code",
   "execution_count": 301,
   "id": "db522467",
   "metadata": {},
   "outputs": [],
   "source": [
    "from sklearn.ensemble import RandomForestRegressor\n"
   ]
  },
  {
   "cell_type": "code",
   "execution_count": 302,
   "id": "fbc2f311",
   "metadata": {},
   "outputs": [
    {
     "name": "stderr",
     "output_type": "stream",
     "text": [
      "C:\\Users\\xavim\\AppData\\Local\\Temp\\ipykernel_25000\\2862084681.py:2: DataConversionWarning: A column-vector y was passed when a 1d array was expected. Please change the shape of y to (n_samples,), for example using ravel().\n",
      "  modelo_rf.fit(dev_df_bmw4_X, dev_df_bmw4_y)\n"
     ]
    },
    {
     "data": {
      "text/html": [
       "<style>#sk-container-id-1 {color: black;background-color: white;}#sk-container-id-1 pre{padding: 0;}#sk-container-id-1 div.sk-toggleable {background-color: white;}#sk-container-id-1 label.sk-toggleable__label {cursor: pointer;display: block;width: 100%;margin-bottom: 0;padding: 0.3em;box-sizing: border-box;text-align: center;}#sk-container-id-1 label.sk-toggleable__label-arrow:before {content: \"▸\";float: left;margin-right: 0.25em;color: #696969;}#sk-container-id-1 label.sk-toggleable__label-arrow:hover:before {color: black;}#sk-container-id-1 div.sk-estimator:hover label.sk-toggleable__label-arrow:before {color: black;}#sk-container-id-1 div.sk-toggleable__content {max-height: 0;max-width: 0;overflow: hidden;text-align: left;background-color: #f0f8ff;}#sk-container-id-1 div.sk-toggleable__content pre {margin: 0.2em;color: black;border-radius: 0.25em;background-color: #f0f8ff;}#sk-container-id-1 input.sk-toggleable__control:checked~div.sk-toggleable__content {max-height: 200px;max-width: 100%;overflow: auto;}#sk-container-id-1 input.sk-toggleable__control:checked~label.sk-toggleable__label-arrow:before {content: \"▾\";}#sk-container-id-1 div.sk-estimator input.sk-toggleable__control:checked~label.sk-toggleable__label {background-color: #d4ebff;}#sk-container-id-1 div.sk-label input.sk-toggleable__control:checked~label.sk-toggleable__label {background-color: #d4ebff;}#sk-container-id-1 input.sk-hidden--visually {border: 0;clip: rect(1px 1px 1px 1px);clip: rect(1px, 1px, 1px, 1px);height: 1px;margin: -1px;overflow: hidden;padding: 0;position: absolute;width: 1px;}#sk-container-id-1 div.sk-estimator {font-family: monospace;background-color: #f0f8ff;border: 1px dotted black;border-radius: 0.25em;box-sizing: border-box;margin-bottom: 0.5em;}#sk-container-id-1 div.sk-estimator:hover {background-color: #d4ebff;}#sk-container-id-1 div.sk-parallel-item::after {content: \"\";width: 100%;border-bottom: 1px solid gray;flex-grow: 1;}#sk-container-id-1 div.sk-label:hover label.sk-toggleable__label {background-color: #d4ebff;}#sk-container-id-1 div.sk-serial::before {content: \"\";position: absolute;border-left: 1px solid gray;box-sizing: border-box;top: 0;bottom: 0;left: 50%;z-index: 0;}#sk-container-id-1 div.sk-serial {display: flex;flex-direction: column;align-items: center;background-color: white;padding-right: 0.2em;padding-left: 0.2em;position: relative;}#sk-container-id-1 div.sk-item {position: relative;z-index: 1;}#sk-container-id-1 div.sk-parallel {display: flex;align-items: stretch;justify-content: center;background-color: white;position: relative;}#sk-container-id-1 div.sk-item::before, #sk-container-id-1 div.sk-parallel-item::before {content: \"\";position: absolute;border-left: 1px solid gray;box-sizing: border-box;top: 0;bottom: 0;left: 50%;z-index: -1;}#sk-container-id-1 div.sk-parallel-item {display: flex;flex-direction: column;z-index: 1;position: relative;background-color: white;}#sk-container-id-1 div.sk-parallel-item:first-child::after {align-self: flex-end;width: 50%;}#sk-container-id-1 div.sk-parallel-item:last-child::after {align-self: flex-start;width: 50%;}#sk-container-id-1 div.sk-parallel-item:only-child::after {width: 0;}#sk-container-id-1 div.sk-dashed-wrapped {border: 1px dashed gray;margin: 0 0.4em 0.5em 0.4em;box-sizing: border-box;padding-bottom: 0.4em;background-color: white;}#sk-container-id-1 div.sk-label label {font-family: monospace;font-weight: bold;display: inline-block;line-height: 1.2em;}#sk-container-id-1 div.sk-label-container {text-align: center;}#sk-container-id-1 div.sk-container {/* jupyter's `normalize.less` sets `[hidden] { display: none; }` but bootstrap.min.css set `[hidden] { display: none !important; }` so we also need the `!important` here to be able to override the default hidden behavior on the sphinx rendered scikit-learn.org. See: https://github.com/scikit-learn/scikit-learn/issues/21755 */display: inline-block !important;position: relative;}#sk-container-id-1 div.sk-text-repr-fallback {display: none;}</style><div id=\"sk-container-id-1\" class=\"sk-top-container\"><div class=\"sk-text-repr-fallback\"><pre>RandomForestRegressor(n_estimators=20, random_state=2022)</pre><b>In a Jupyter environment, please rerun this cell to show the HTML representation or trust the notebook. <br />On GitHub, the HTML representation is unable to render, please try loading this page with nbviewer.org.</b></div><div class=\"sk-container\" hidden><div class=\"sk-item\"><div class=\"sk-estimator sk-toggleable\"><input class=\"sk-toggleable__control sk-hidden--visually\" id=\"sk-estimator-id-1\" type=\"checkbox\" checked><label for=\"sk-estimator-id-1\" class=\"sk-toggleable__label sk-toggleable__label-arrow\">RandomForestRegressor</label><div class=\"sk-toggleable__content\"><pre>RandomForestRegressor(n_estimators=20, random_state=2022)</pre></div></div></div></div></div>"
      ],
      "text/plain": [
       "RandomForestRegressor(n_estimators=20, random_state=2022)"
      ]
     },
     "execution_count": 302,
     "metadata": {},
     "output_type": "execute_result"
    }
   ],
   "source": [
    "modelo_rf = RandomForestRegressor(n_estimators = 20, random_state = 2022)\n",
    "modelo_rf.fit(dev_df_bmw4_X, dev_df_bmw4_y)"
   ]
  },
  {
   "cell_type": "code",
   "execution_count": 303,
   "id": "b202010f",
   "metadata": {},
   "outputs": [
    {
     "data": {
      "text/plain": [
       "array([24505.,  6000., 13600.,  9900., 10100., 24000., 10800., 32530.,\n",
       "       13300.,  1950., 10500., 16700.,  8600., 12000.,  4200., 12900.,\n",
       "       12000., 17500., 12000., 15500., 26205., 46075., 20305., 20800.,\n",
       "       12500., 13100.,  8400., 14300., 17500., 13100., 13200., 32525.,\n",
       "       27620., 14800., 18295., 14600.,  3020., 16900., 11200., 11900.,\n",
       "       18695., 35450.,  6000., 13900., 12900.,  9300., 34525., 13400.,\n",
       "        5000., 21500., 14500., 16900., 13800., 20500., 15800., 20800.,\n",
       "       15600.,  9000., 19000., 20000., 19200., 13400., 14000., 29800.,\n",
       "       13100., 19400., 13100., 14000.,   800.,  9000., 11500., 13100.,\n",
       "       15400., 14400., 15800., 28600., 45410., 11900., 14300., 13100.,\n",
       "       15000., 12000., 15800., 10100.,  4300.,  8900., 13300., 11700.,\n",
       "        7100.,  3500., 13200., 12700., 11300.,   800., 13300., 17300.,\n",
       "       12900., 14300., 11700., 14500.,  4800., 14300., 16100., 10200.,\n",
       "       12100., 26205., 13200., 12600., 19800.,  7500., 14300.,  9200.,\n",
       "       12000.,  3600.,  7895., 39905., 24290., 15200., 17300., 14300.,\n",
       "        4305., 15400.,  9300., 16900., 12700., 27395., 12600., 10400.,\n",
       "       46940., 16800., 25100., 14600., 15100., 11000., 23795., 16800.,\n",
       "       11300., 10200., 15800., 10600.,  3305., 16400., 12100., 13400.,\n",
       "       11700.,  5500., 21400., 41215., 17805., 38810., 22700., 11400.,\n",
       "       12900., 23900., 35130., 15800., 17300., 13900., 13800., 21400.,\n",
       "        3125., 10700.,  8510.,  9900., 13300., 15400., 19720., 31015.,\n",
       "       12600., 17400., 11400., 14200., 14400.,  5000., 10800., 18400.,\n",
       "       21100., 19305., 15900., 10100., 15500., 14200.,  6000.,  3710.,\n",
       "        8300., 11200.,  6000.,  8000., 15000., 16700., 11900., 52535.,\n",
       "       14500., 11200., 13100., 19200., 21195.,  7415.,  9300., 14000.,\n",
       "       32085., 10700., 13300., 22805., 11400., 15100.,  9000., 18100.,\n",
       "       16300., 14300., 18900., 13900.,  6395., 25085., 24300., 10600.,\n",
       "       14400., 18100., 24110., 11500., 11100., 43400., 19000., 30845.,\n",
       "       15500., 29990., 32020., 17700., 19200., 15600., 19300., 19500.,\n",
       "       19200., 58715., 15400.,   785., 15200., 27700., 15100.,  9600.,\n",
       "        4205., 15100., 16300.,  4000., 14600., 15700., 23800., 14200.,\n",
       "        5000., 18100., 41140., 12500., 45470., 16100., 17100., 13400.,\n",
       "       12000.,  6000., 28600., 23110.,   800., 22500., 19195., 31015.,\n",
       "        8900., 10500., 12400., 20500., 15500., 22100., 28090., 10200.,\n",
       "       15600.,  5000., 13200.,  9600.,  6400., 11400., 12000., 12500.,\n",
       "       37205., 16800., 20300., 11800.,  8300.,  9900., 17300., 15000.,\n",
       "       12900., 25830., 20000.,  5000., 11200., 46415., 13200., 12000.,\n",
       "       14500., 12500., 10700., 11300.,  9200., 14400., 11900., 15100.,\n",
       "        7900., 16500., 30010., 15000., 10900., 28305.,  7100., 16100.,\n",
       "       22285., 29575.,  4200., 15100., 10200.,  7845., 13100., 17000.,\n",
       "        4205., 11100., 15600.,  5195., 16700.,  6300., 21100.,  9685.,\n",
       "       22405.,  9795., 13600., 13300., 11600., 10800.,  5100., 11400.,\n",
       "       12500.,  6800., 16200., 10100., 12500., 14800.,  4500., 10100.,\n",
       "       25260., 10100., 11300., 10600., 14300., 10500., 10100., 15800.,\n",
       "       25500., 19305., 29520., 13600., 10000., 21300., 25120., 11300.,\n",
       "       16100., 23300.,  5400.,  9500., 13000., 24405., 17800., 13800.,\n",
       "       16500., 18600., 13000., 14500., 15700.,  9500., 10600., 12500.,\n",
       "       10600., 62320., 16600., 17100., 14400., 20500., 29510., 12000.,\n",
       "        5600., 10800., 17300., 10200., 15800., 16100., 28600., 17000.,\n",
       "       35320., 14900., 15200.,  7000., 15700.,  4900.,  8300.,  5600.,\n",
       "       13700., 10000., 17400., 22295., 22110., 10600., 19900., 11900.,\n",
       "        3590., 41235., 33275., 16400., 10500., 29805., 16200.,  5500.,\n",
       "       19300., 20000., 15800., 27400., 18100., 14600., 13700., 14900.,\n",
       "       14900., 13800.,  5500.,  8900., 11100., 10200., 34200., 22595.,\n",
       "       17600., 13700., 34975., 10900.,  6500.,  2560., 10400., 14200.,\n",
       "       12900., 17500.,  1405., 39885.,  9400., 18200.,  7300., 28360.,\n",
       "       14200., 23595., 18900., 13100.,  9400., 17100., 12400., 17300.,\n",
       "        2445., 11300.,  8000., 15295., 22400.,  5500., 11900., 13100.,\n",
       "       21400., 18600., 20300., 10500., 13100., 14600., 33300., 10000.,\n",
       "       14200.,  7705., 13700., 13100., 14000.,  9300., 11800., 21300.,\n",
       "         620., 19200., 11100.,  6105., 14600., 15000., 15500., 17500.,\n",
       "        1110., 19200., 10100., 14900., 11700., 17600., 12700., 14600.,\n",
       "        8100., 17300., 13100., 25500., 13100., 14200., 40945.,  9615.,\n",
       "       13700., 13100., 13700., 14000., 22405., 10900., 20800., 19000.,\n",
       "       12700.,  9005., 23205., 20800., 13100., 12100., 11400.,  6100.,\n",
       "       11900., 12500.,  9600., 10600., 18400., 11300., 14900., 16100.,\n",
       "       28000.,  8700., 10205., 11300.,  5105., 15700., 25000., 15100.,\n",
       "       17800.,  9300.,  4495.,  8300., 13300., 13000., 10100., 41985.,\n",
       "       10600.,  7700.,  5700.,  6000., 18200., 43375., 25605.,  9200.,\n",
       "       12600., 15500., 15000., 13200., 12800., 23505., 17700., 31435.,\n",
       "       19800., 12500., 18100., 13300., 13400., 14300., 19000., 18600.,\n",
       "       10500., 18600., 15200., 23800., 16800., 15900., 11700., 12400.,\n",
       "       19900., 12400., 37405.,   800., 15100., 21300., 23400., 23800.,\n",
       "       15500., 12300., 26205.,  5120., 15200.,  7500., 18900., 17500.,\n",
       "       39435., 19000.,  7100., 18000., 15700., 23400., 11700., 21400.,\n",
       "       12900., 10700., 10900.,  8600.,  4900., 12400., 12500., 11500.,\n",
       "       19000., 22100., 19500., 10700., 12500.,  8300., 14100., 20605.,\n",
       "       21100., 19300., 29210., 16100., 21200., 15900., 20895., 17000.,\n",
       "        9200., 30190.,  8600., 10800., 14200., 10200., 14300., 11900.,\n",
       "       22900.,  4800., 70655., 13000., 54665., 24110., 10200., 10100.,\n",
       "       14400., 26710., 19000., 20500., 11200., 14500., 16700., 20000.,\n",
       "       27805., 13600., 18100., 13700., 14300., 30210., 18100., 16700.,\n",
       "       15600.,  3435., 22000.,  6000.,  8600., 13000., 12100.,  8800.])"
      ]
     },
     "execution_count": 303,
     "metadata": {},
     "output_type": "execute_result"
    }
   ],
   "source": [
    "predicciones_rf = modelo_rf.predict(X_test)\n",
    "predicciones_rf"
   ]
  },
  {
   "cell_type": "code",
   "execution_count": 304,
   "id": "0ebb76dc",
   "metadata": {},
   "outputs": [
    {
     "name": "stdout",
     "output_type": "stream",
     "text": [
      "            km  potencia   precioLN  tipo_coche_convertible  tipo_coche_coupe  \\\n",
      "2816  0.249011  0.350877  10.106469                       0                 0   \n",
      "2971  0.700708  0.190058   8.699681                       0                 0   \n",
      "2751  0.189861  0.043860   9.517899                       0                 0   \n",
      "407   0.527322  0.146199   9.200391                       0                 0   \n",
      "2263  0.121818  0.043860   9.220390                       0                 0   \n",
      "...        ...       ...        ...                     ...               ...   \n",
      "3526  0.455921  0.146199   8.699681                       0                 0   \n",
      "1747  0.404909  0.146199   9.059634                       0                 0   \n",
      "1247  0.383993  0.146199   9.472782                       0                 0   \n",
      "3574  0.145958  0.043860   9.401043                       0                 0   \n",
      "1549  0.389388  0.043860   9.082621                       0                 0   \n",
      "\n",
      "      tipo_coche_estate  tipo_coche_hatchback  tipo_coche_sedan  \\\n",
      "2816                  0                     0                 1   \n",
      "2971                  0                     0                 1   \n",
      "2751                  0                     0                 1   \n",
      "407                   1                     0                 0   \n",
      "2263                  0                     1                 0   \n",
      "...                 ...                   ...               ...   \n",
      "3526                  0                     0                 1   \n",
      "1747                  1                     0                 0   \n",
      "1247                  1                     0                 0   \n",
      "3574                  0                     0                 1   \n",
      "1549                  1                     0                 0   \n",
      "\n",
      "      tipo_coche_subcompact  tipo_coche_suv  ...  modelo_X5  modelo_X5 M  \\\n",
      "2816                      0               0  ...          0            0   \n",
      "2971                      0               0  ...          0            0   \n",
      "2751                      0               0  ...          0            0   \n",
      "407                       0               0  ...          0            0   \n",
      "2263                      0               0  ...          0            0   \n",
      "...                     ...             ...  ...        ...          ...   \n",
      "3526                      0               0  ...          0            0   \n",
      "1747                      0               0  ...          0            0   \n",
      "1247                      0               0  ...          0            0   \n",
      "3574                      0               0  ...          0            0   \n",
      "1549                      0               0  ...          0            0   \n",
      "\n",
      "      modelo_X5 M50  modelo_X6  modelo_X6 M  modelo_Z4  modelo_i3  is_train  \\\n",
      "2816              0          0            0          0          0      True   \n",
      "2971              0          0            0          0          0      True   \n",
      "2751              0          0            0          0          0      True   \n",
      "407               0          0            0          0          0      True   \n",
      "2263              0          0            0          0          0      True   \n",
      "...             ...        ...          ...        ...        ...       ...   \n",
      "3526              0          0            0          0          0      True   \n",
      "1747              0          0            0          0          0      True   \n",
      "1247              0          0            0          0          0      True   \n",
      "3574              0          0            0          0          0      True   \n",
      "1549              0          0            0          0          0      True   \n",
      "\n",
      "      Precio_Real  Precio_Prediction  \n",
      "2816      24500.0            24505.0  \n",
      "2971       6000.0             6000.0  \n",
      "2751      13600.0            13600.0  \n",
      "407        9900.0             9900.0  \n",
      "2263      10100.0            10100.0  \n",
      "...           ...                ...  \n",
      "3526       6000.0             6000.0  \n",
      "1747       8600.0             8600.0  \n",
      "1247      13000.0            13000.0  \n",
      "3574      12100.0            12100.0  \n",
      "1549       8800.0             8800.0  \n",
      "\n",
      "[664 rows x 149 columns]\n"
     ]
    }
   ],
   "source": [
    "comparaciones = pd.DataFrame(X_test)\n",
    "comparaciones = comparaciones.assign(Precio_Real = y_test)\n",
    "comparaciones = comparaciones.assign(Precio_Prediction = predicciones_rf.flatten().tolist())\n",
    "print(comparaciones)"
   ]
  },
  {
   "cell_type": "markdown",
   "id": "afa756a3",
   "metadata": {},
   "source": [
    "## Step 7: RMSE Modelo AR"
   ]
  },
  {
   "cell_type": "markdown",
   "id": "9d47a7af",
   "metadata": {},
   "source": [
    "### Importamos librerias"
   ]
  },
  {
   "cell_type": "code",
   "execution_count": 305,
   "id": "db6f98c6",
   "metadata": {},
   "outputs": [],
   "source": [
    "from sklearn.metrics import mean_squared_error, r2_score"
   ]
  },
  {
   "cell_type": "code",
   "execution_count": 306,
   "id": "78ff0712",
   "metadata": {},
   "outputs": [
    {
     "name": "stdout",
     "output_type": "stream",
     "text": [
      "El error (rmse) de test es: 121.04169474800771\n"
     ]
    }
   ],
   "source": [
    "rmse_rf = mean_squared_error(\n",
    "        y_true = y_test,\n",
    "        y_pred = predicciones_rf,\n",
    "        squared = False\n",
    "        ) \n",
    "print(f\"El error (rmse) de test es: {rmse_rf}\")"
   ]
  },
  {
   "cell_type": "code",
   "execution_count": null,
   "id": "8becfc06",
   "metadata": {},
   "outputs": [],
   "source": []
  }
 ],
 "metadata": {
  "kernelspec": {
   "display_name": "Python 3 (ipykernel)",
   "language": "python",
   "name": "python3"
  },
  "language_info": {
   "codemirror_mode": {
    "name": "ipython",
    "version": 3
   },
   "file_extension": ".py",
   "mimetype": "text/x-python",
   "name": "python",
   "nbconvert_exporter": "python",
   "pygments_lexer": "ipython3",
   "version": "3.10.9"
  }
 },
 "nbformat": 4,
 "nbformat_minor": 5
}
